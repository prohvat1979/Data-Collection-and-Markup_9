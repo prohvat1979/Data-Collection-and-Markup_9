{
  "cells": [
    {
      "cell_type": "markdown",
      "id": "9a23f3ae-9905-4bc1-99ef-a668c3284708",
      "metadata": {
        "id": "9a23f3ae-9905-4bc1-99ef-a668c3284708"
      },
      "source": [
        "# Семинар 9. Инструменты разметки наборов данных\n",
        "* Домашнее задание:\n",
        "- Задача 1.\n",
        "Выберите датасет, который имеет отношение к вашей области интересов или исследований. Датасет должен содержать неструктурированные данные, требующие разметки для решения конкретной задачи, например, анализа настроений или распознавания именованных сущностей.\n",
        "\n",
        "- Задача 2.\n",
        "Выполните разметку на основе правил (rule-based labeling) на подмножестве выбранного датасета. Разработайте и реализуйте набор правил или условий, которые позволят автоматически присваивать метки данным на основе определенных шаблонов или критериев.\n",
        "\n",
        "- Задача 3.\n",
        "Выполните разметку вручную отдельного подмножества выбранного датасета с помощью выбранного вами инструмента разметки.\n",
        "\n",
        "- Задача 4.\n",
        "Объедините данные, размеченные вручную, с данными, размеченными на основе правил. Объедините два подмножества размеченных данных в один набор данных, сохранив при этом соответствующую структуру и целостность.\n",
        "\n",
        "- Задача 5.\n",
        "Обучите модель машинного обучения, используя объединенный набор размеченных данных. Разделите датасет на обучающий и тестовый наборы и используйте обучающий набор для обучения модели.\n",
        "\n",
        "- Задача 6.\n",
        "Оценить эффективность обученной модели на тестовом датасете. Используйте подходящие метрики оценки. Интерпретируйте результаты и проанализируйте эффективность модели в решении задачи разметки.\n",
        "\n"
      ]
    },
    {
      "cell_type": "code",
      "execution_count": 1,
      "id": "21d0cb0d-dfc9-4cd5-94e9-0f21f7841c2c",
      "metadata": {
        "ExecuteTime": {
          "end_time": "2024-04-15T13:43:55.369652Z",
          "start_time": "2024-04-15T13:43:55.360649Z"
        },
        "editable": true,
        "tags": [],
        "colab": {
          "base_uri": "https://localhost:8080/",
          "height": 1000
        },
        "collapsed": true,
        "id": "21d0cb0d-dfc9-4cd5-94e9-0f21f7841c2c",
        "outputId": "165bf50f-6d64-45b6-a622-219a95a20407"
      },
      "outputs": [
        {
          "output_type": "stream",
          "name": "stdout",
          "text": [
            "Requirement already satisfied: pandas in /usr/local/lib/python3.10/dist-packages (2.2.2)\n",
            "Requirement already satisfied: numpy>=1.22.4 in /usr/local/lib/python3.10/dist-packages (from pandas) (1.26.4)\n",
            "Requirement already satisfied: python-dateutil>=2.8.2 in /usr/local/lib/python3.10/dist-packages (from pandas) (2.8.2)\n",
            "Requirement already satisfied: pytz>=2020.1 in /usr/local/lib/python3.10/dist-packages (from pandas) (2024.2)\n",
            "Requirement already satisfied: tzdata>=2022.7 in /usr/local/lib/python3.10/dist-packages (from pandas) (2024.2)\n",
            "Requirement already satisfied: six>=1.5 in /usr/local/lib/python3.10/dist-packages (from python-dateutil>=2.8.2->pandas) (1.16.0)\n",
            "Requirement already satisfied: nltk in /usr/local/lib/python3.10/dist-packages (3.8.1)\n",
            "Requirement already satisfied: click in /usr/local/lib/python3.10/dist-packages (from nltk) (8.1.7)\n",
            "Requirement already satisfied: joblib in /usr/local/lib/python3.10/dist-packages (from nltk) (1.4.2)\n",
            "Requirement already satisfied: regex>=2021.8.3 in /usr/local/lib/python3.10/dist-packages (from nltk) (2024.9.11)\n",
            "Requirement already satisfied: tqdm in /usr/local/lib/python3.10/dist-packages (from nltk) (4.66.5)\n",
            "Requirement already satisfied: scikit-learn in /usr/local/lib/python3.10/dist-packages (1.5.2)\n",
            "Requirement already satisfied: numpy>=1.19.5 in /usr/local/lib/python3.10/dist-packages (from scikit-learn) (1.26.4)\n",
            "Requirement already satisfied: scipy>=1.6.0 in /usr/local/lib/python3.10/dist-packages (from scikit-learn) (1.13.1)\n",
            "Requirement already satisfied: joblib>=1.2.0 in /usr/local/lib/python3.10/dist-packages (from scikit-learn) (1.4.2)\n",
            "Requirement already satisfied: threadpoolctl>=3.1.0 in /usr/local/lib/python3.10/dist-packages (from scikit-learn) (3.5.0)\n",
            "Collecting label-studio\n",
            "  Downloading label_studio-1.13.1-py3-none-any.whl.metadata (14 kB)\n",
            "Collecting Django<3.3.0,>=3.2.24 (from label-studio)\n",
            "  Downloading Django-3.2.25-py3-none-any.whl.metadata (4.1 kB)\n",
            "Collecting appdirs>=1.4.3 (from label-studio)\n",
            "  Downloading appdirs-1.4.4-py2.py3-none-any.whl.metadata (9.0 kB)\n",
            "Collecting attr==0.3.1 (from label-studio)\n",
            "  Downloading attr-0.3.1.tar.gz (1.7 kB)\n",
            "  Preparing metadata (setup.py) ... \u001b[?25l\u001b[?25hdone\n",
            "Requirement already satisfied: attrs>=19.2.0 in /usr/local/lib/python3.10/dist-packages (from label-studio) (24.2.0)\n",
            "Collecting azure-storage-blob>=12.6.0 (from label-studio)\n",
            "  Downloading azure_storage_blob-12.23.1-py3-none-any.whl.metadata (26 kB)\n",
            "Collecting bleach<5.1.0,>=5.0.0 (from label-studio)\n",
            "  Downloading bleach-5.0.1-py3-none-any.whl.metadata (27 kB)\n",
            "Collecting boto<3.0.0,>=2.49.0 (from label-studio)\n",
            "  Downloading boto-2.49.0-py2.py3-none-any.whl.metadata (7.3 kB)\n",
            "Collecting boto3<2.0.0,>=1.28.58 (from label-studio)\n",
            "  Downloading boto3-1.35.45-py3-none-any.whl.metadata (6.7 kB)\n",
            "Collecting botocore<2.0.0,>=1.31.58 (from label-studio)\n",
            "  Downloading botocore-1.35.45-py3-none-any.whl.metadata (5.7 kB)\n",
            "Collecting boxing>=0.1.4 (from label-studio)\n",
            "  Downloading boxing-0.1.4-py3-none-any.whl.metadata (1.5 kB)\n",
            "Collecting colorama>=0.4.4 (from label-studio)\n",
            "  Downloading colorama-0.4.6-py2.py3-none-any.whl.metadata (17 kB)\n",
            "Requirement already satisfied: defusedxml>=0.7.1 in /usr/local/lib/python3.10/dist-packages (from label-studio) (0.7.1)\n",
            "Collecting django-annoying==0.10.6 (from label-studio)\n",
            "  Downloading django_annoying-0.10.6-py2.py3-none-any.whl.metadata (2.3 kB)\n",
            "Collecting django-cors-headers==3.6.0 (from label-studio)\n",
            "  Downloading django_cors_headers-3.6.0-py3-none-any.whl.metadata (14 kB)\n",
            "Collecting django-csp==3.7 (from label-studio)\n",
            "  Downloading django_csp-3.7-py2.py3-none-any.whl.metadata (2.7 kB)\n",
            "Collecting django-debug-toolbar==3.2.1 (from label-studio)\n",
            "  Downloading django_debug_toolbar-3.2.1-py3-none-any.whl.metadata (3.2 kB)\n",
            "Collecting django-environ==0.10.0 (from label-studio)\n",
            "  Downloading django_environ-0.10.0-py2.py3-none-any.whl.metadata (13 kB)\n",
            "Collecting django-extensions==3.1.0 (from label-studio)\n",
            "  Downloading django_extensions-3.1.0-py3-none-any.whl.metadata (5.0 kB)\n",
            "Collecting django-filter==2.4.0 (from label-studio)\n",
            "  Downloading django_filter-2.4.0-py3-none-any.whl.metadata (4.1 kB)\n",
            "Collecting django-model-utils==4.1.1 (from label-studio)\n",
            "  Downloading django_model_utils-4.1.1-py3-none-any.whl.metadata (17 kB)\n",
            "Collecting django-ranged-fileresponse>=0.1.2 (from label-studio)\n",
            "  Downloading django-ranged-fileresponse-0.1.2.tar.gz (2.7 kB)\n",
            "  Preparing metadata (setup.py) ... \u001b[?25l\u001b[?25hdone\n",
            "Collecting django-rq==2.5.1 (from label-studio)\n",
            "  Downloading django_rq-2.5.1-py2.py3-none-any.whl.metadata (17 kB)\n",
            "Collecting django-storages==1.12.3 (from label-studio)\n",
            "  Downloading django_storages-1.12.3-py3-none-any.whl.metadata (54 kB)\n",
            "\u001b[2K     \u001b[90m━━━━━━━━━━━━━━━━━━━━━━━━━━━━━━━━━━━━━━━━\u001b[0m \u001b[32m54.8/54.8 kB\u001b[0m \u001b[31m4.0 MB/s\u001b[0m eta \u001b[36m0:00:00\u001b[0m\n",
            "\u001b[?25hCollecting django-user-agents==0.4.0 (from label-studio)\n",
            "  Downloading django_user_agents-0.4.0-py3-none-any.whl.metadata (6.2 kB)\n",
            "Collecting djangorestframework==3.13.1 (from label-studio)\n",
            "  Downloading djangorestframework-3.13.1-py3-none-any.whl.metadata (10 kB)\n",
            "Collecting drf-dynamic-fields==0.3.0 (from label-studio)\n",
            "  Downloading drf_dynamic_fields-0.3.0-py2.py3-none-any.whl.metadata (4.8 kB)\n",
            "Collecting drf-flex-fields==0.9.5 (from label-studio)\n",
            "  Downloading drf-flex-fields-0.9.5.tar.gz (27 kB)\n",
            "  Preparing metadata (setup.py) ... \u001b[?25l\u001b[?25hdone\n",
            "Collecting drf-generators==0.3.0 (from label-studio)\n",
            "  Downloading drf-generators-0.3.0.tar.gz (9.4 kB)\n",
            "  Preparing metadata (setup.py) ... \u001b[?25l\u001b[?25hdone\n",
            "Collecting google-cloud-logging<4.0.0,>=3.10.0 (from label-studio)\n",
            "  Downloading google_cloud_logging-3.11.3-py2.py3-none-any.whl.metadata (4.9 kB)\n",
            "Collecting google-cloud-storage<3.0.0,>=2.13.0 (from label-studio)\n",
            "  Downloading google_cloud_storage-2.18.2-py2.py3-none-any.whl.metadata (9.1 kB)\n",
            "Collecting htmlmin==0.1.12 (from label-studio)\n",
            "  Downloading htmlmin-0.1.12.tar.gz (19 kB)\n",
            "  Preparing metadata (setup.py) ... \u001b[?25l\u001b[?25hdone\n",
            "Collecting humansignal-drf-yasg>=1.21.9 (from label-studio)\n",
            "  Downloading humansignal_drf_yasg-1.21.9-py3-none-any.whl.metadata (15 kB)\n",
            "Collecting jsonschema==3.2.0 (from label-studio)\n",
            "  Downloading jsonschema-3.2.0-py2.py3-none-any.whl.metadata (7.8 kB)\n",
            "Collecting label-studio-sdk==1.0.5 (from label-studio)\n",
            "  Downloading label_studio_sdk-1.0.5-py3-none-any.whl.metadata (5.5 kB)\n",
            "Collecting launchdarkly-server-sdk==8.2.1 (from label-studio)\n",
            "  Downloading launchdarkly_server_sdk-8.2.1-py3-none-any.whl.metadata (1.3 kB)\n",
            "Collecting lockfile>=0.12.0 (from label-studio)\n",
            "  Downloading lockfile-0.12.2-py2.py3-none-any.whl.metadata (2.4 kB)\n",
            "Requirement already satisfied: lxml>=4.2.5 in /usr/local/lib/python3.10/dist-packages (from label-studio) (4.9.4)\n",
            "Requirement already satisfied: numpy<2.0.0,>=1.24.3 in /usr/local/lib/python3.10/dist-packages (from label-studio) (1.26.4)\n",
            "Collecting openai<2.0.0,>=1.10.0 (from label-studio)\n",
            "  Downloading openai-1.52.0-py3-none-any.whl.metadata (24 kB)\n",
            "Collecting ordered-set==4.0.2 (from label-studio)\n",
            "  Downloading ordered-set-4.0.2.tar.gz (10 kB)\n",
            "  Preparing metadata (setup.py) ... \u001b[?25l\u001b[?25hdone\n",
            "Requirement already satisfied: pandas>=0.24.0 in /usr/local/lib/python3.10/dist-packages (from label-studio) (2.2.2)\n",
            "Collecting psycopg2-binary==2.9.9 (from label-studio)\n",
            "  Downloading psycopg2_binary-2.9.9-cp310-cp310-manylinux_2_17_x86_64.manylinux2014_x86_64.whl.metadata (4.4 kB)\n",
            "Requirement already satisfied: pydantic>=2.7.3 in /usr/local/lib/python3.10/dist-packages (from label-studio) (2.9.2)\n",
            "Requirement already satisfied: python-dateutil>=2.8.1 in /usr/local/lib/python3.10/dist-packages (from label-studio) (2.8.2)\n",
            "Collecting python-json-logger==2.0.4 (from label-studio)\n",
            "  Downloading python_json_logger-2.0.4-py3-none-any.whl.metadata (6.5 kB)\n",
            "Collecting pytz<2023.0,>=2022.1 (from label-studio)\n",
            "  Downloading pytz-2022.7.1-py2.py3-none-any.whl.metadata (21 kB)\n",
            "Requirement already satisfied: pyyaml>=6.0.0 in /usr/local/lib/python3.10/dist-packages (from label-studio) (6.0.2)\n",
            "Collecting redis<4.0,>=3.5 (from label-studio)\n",
            "  Downloading redis-3.5.3-py2.py3-none-any.whl.metadata (36 kB)\n",
            "Requirement already satisfied: requests<2.33.0,>=2.32.3 in /usr/local/lib/python3.10/dist-packages (from label-studio) (2.32.3)\n",
            "Collecting rq==1.10.1 (from label-studio)\n",
            "  Downloading rq-1.10.1-py2.py3-none-any.whl.metadata (1.6 kB)\n",
            "Collecting rules==2.2 (from label-studio)\n",
            "  Downloading rules-2.2.tar.gz (53 kB)\n",
            "\u001b[2K     \u001b[90m━━━━━━━━━━━━━━━━━━━━━━━━━━━━━━━━━━━━━━━━\u001b[0m \u001b[32m53.0/53.0 kB\u001b[0m \u001b[31m3.8 MB/s\u001b[0m eta \u001b[36m0:00:00\u001b[0m\n",
            "\u001b[?25h  Preparing metadata (setup.py) ... \u001b[?25l\u001b[?25hdone\n",
            "Requirement already satisfied: sentry-sdk>=1.1.0 in /usr/local/lib/python3.10/dist-packages (from label-studio) (2.17.0)\n",
            "Collecting ujson>=3.0.0 (from label-studio)\n",
            "  Downloading ujson-5.10.0-cp310-cp310-manylinux_2_17_x86_64.manylinux2014_x86_64.whl.metadata (9.3 kB)\n",
            "Collecting urllib3<2.0.0,>=1.26.18 (from label-studio)\n",
            "  Downloading urllib3-1.26.20-py2.py3-none-any.whl.metadata (50 kB)\n",
            "\u001b[2K     \u001b[90m━━━━━━━━━━━━━━━━━━━━━━━━━━━━━━━━━━━━━━━━\u001b[0m \u001b[32m50.1/50.1 kB\u001b[0m \u001b[31m3.7 MB/s\u001b[0m eta \u001b[36m0:00:00\u001b[0m\n",
            "\u001b[?25hCollecting wheel<=0.40.0,>=0.38.1 (from label-studio)\n",
            "  Downloading wheel-0.40.0-py3-none-any.whl.metadata (2.1 kB)\n",
            "Collecting xmljson==0.2.1 (from label-studio)\n",
            "  Downloading xmljson-0.2.1-py2.py3-none-any.whl.metadata (12 kB)\n",
            "Requirement already satisfied: six in /usr/local/lib/python3.10/dist-packages (from django-annoying==0.10.6->label-studio) (1.16.0)\n",
            "Requirement already satisfied: sqlparse>=0.2.0 in /usr/local/lib/python3.10/dist-packages (from django-debug-toolbar==3.2.1->label-studio) (0.5.1)\n",
            "Collecting user-agents (from django-user-agents==0.4.0->label-studio)\n",
            "  Downloading user_agents-2.2.0-py3-none-any.whl.metadata (7.9 kB)\n",
            "Collecting pyrsistent>=0.14.0 (from jsonschema==3.2.0->label-studio)\n",
            "  Downloading pyrsistent-0.20.0-cp310-cp310-manylinux_2_17_x86_64.manylinux2014_x86_64.whl.metadata (27 kB)\n",
            "Requirement already satisfied: setuptools in /usr/local/lib/python3.10/dist-packages (from jsonschema==3.2.0->label-studio) (75.1.0)\n",
            "Requirement already satisfied: Pillow>=10.0.1 in /usr/local/lib/python3.10/dist-packages (from label-studio-sdk==1.0.5->label-studio) (10.4.0)\n",
            "Collecting httpx>=0.21.2 (from label-studio-sdk==1.0.5->label-studio)\n",
            "  Downloading httpx-0.27.2-py3-none-any.whl.metadata (7.1 kB)\n",
            "Collecting ijson>=3.2.3 (from label-studio-sdk==1.0.5->label-studio)\n",
            "  Downloading ijson-3.3.0-cp310-cp310-manylinux_2_17_x86_64.manylinux2014_x86_64.whl.metadata (21 kB)\n",
            "Collecting nltk<4.0.0,>=3.8.2 (from label-studio-sdk==1.0.5->label-studio)\n",
            "  Downloading nltk-3.9.1-py3-none-any.whl.metadata (2.9 kB)\n",
            "Collecting requests-mock==1.12.1 (from label-studio-sdk==1.0.5->label-studio)\n",
            "  Downloading requests_mock-1.12.1-py2.py3-none-any.whl.metadata (4.1 kB)\n",
            "Requirement already satisfied: typing_extensions>=4.0.0 in /usr/local/lib/python3.10/dist-packages (from label-studio-sdk==1.0.5->label-studio) (4.12.2)\n",
            "Requirement already satisfied: certifi>=2018.4.16 in /usr/local/lib/python3.10/dist-packages (from launchdarkly-server-sdk==8.2.1->label-studio) (2024.8.30)\n",
            "Collecting expiringdict>=1.1.4 (from launchdarkly-server-sdk==8.2.1->label-studio)\n",
            "  Downloading expiringdict-1.2.2-py3-none-any.whl.metadata (3.7 kB)\n",
            "Collecting pyRFC3339>=1.0 (from launchdarkly-server-sdk==8.2.1->label-studio)\n",
            "  Downloading pyRFC3339-1.1-py2.py3-none-any.whl.metadata (2.0 kB)\n",
            "Collecting semver>=2.10.2 (from launchdarkly-server-sdk==8.2.1->label-studio)\n",
            "  Downloading semver-3.0.2-py3-none-any.whl.metadata (5.0 kB)\n",
            "Requirement already satisfied: click>=5.0.0 in /usr/local/lib/python3.10/dist-packages (from rq==1.10.1->label-studio) (8.1.7)\n",
            "Collecting azure-core>=1.30.0 (from azure-storage-blob>=12.6.0->label-studio)\n",
            "  Downloading azure_core-1.31.0-py3-none-any.whl.metadata (39 kB)\n",
            "Requirement already satisfied: cryptography>=2.1.4 in /usr/local/lib/python3.10/dist-packages (from azure-storage-blob>=12.6.0->label-studio) (43.0.1)\n",
            "Collecting isodate>=0.6.1 (from azure-storage-blob>=12.6.0->label-studio)\n",
            "  Downloading isodate-0.7.2-py3-none-any.whl.metadata (11 kB)\n",
            "Requirement already satisfied: webencodings in /usr/local/lib/python3.10/dist-packages (from bleach<5.1.0,>=5.0.0->label-studio) (0.5.1)\n",
            "Collecting jmespath<2.0.0,>=0.7.1 (from boto3<2.0.0,>=1.28.58->label-studio)\n",
            "  Downloading jmespath-1.0.1-py3-none-any.whl.metadata (7.6 kB)\n",
            "Collecting s3transfer<0.11.0,>=0.10.0 (from boto3<2.0.0,>=1.28.58->label-studio)\n",
            "  Downloading s3transfer-0.10.3-py3-none-any.whl.metadata (1.7 kB)\n",
            "Collecting asgiref<4,>=3.3.2 (from Django<3.3.0,>=3.2.24->label-studio)\n",
            "  Downloading asgiref-3.8.1-py3-none-any.whl.metadata (9.3 kB)\n",
            "Requirement already satisfied: google-api-core!=2.0.*,!=2.1.*,!=2.10.*,!=2.2.*,!=2.3.*,!=2.4.*,!=2.5.*,!=2.6.*,!=2.7.*,!=2.8.*,!=2.9.*,<3.0.0dev,>=1.34.1 in /usr/local/lib/python3.10/dist-packages (from google-api-core[grpc]!=2.0.*,!=2.1.*,!=2.10.*,!=2.2.*,!=2.3.*,!=2.4.*,!=2.5.*,!=2.6.*,!=2.7.*,!=2.8.*,!=2.9.*,<3.0.0dev,>=1.34.1->google-cloud-logging<4.0.0,>=3.10.0->label-studio) (2.19.2)\n",
            "Requirement already satisfied: google-auth!=2.24.0,!=2.25.0,<3.0.0dev,>=2.14.1 in /usr/local/lib/python3.10/dist-packages (from google-cloud-logging<4.0.0,>=3.10.0->label-studio) (2.27.0)\n",
            "Collecting google-cloud-appengine-logging<2.0.0dev,>=0.1.3 (from google-cloud-logging<4.0.0,>=3.10.0->label-studio)\n",
            "  Downloading google_cloud_appengine_logging-1.4.5-py2.py3-none-any.whl.metadata (5.4 kB)\n",
            "Collecting google-cloud-audit-log<1.0.0dev,>=0.2.4 (from google-cloud-logging<4.0.0,>=3.10.0->label-studio)\n",
            "  Downloading google_cloud_audit_log-0.3.0-py2.py3-none-any.whl.metadata (1.4 kB)\n",
            "Requirement already satisfied: google-cloud-core<3.0.0dev,>=2.0.0 in /usr/local/lib/python3.10/dist-packages (from google-cloud-logging<4.0.0,>=3.10.0->label-studio) (2.4.1)\n",
            "Requirement already satisfied: grpc-google-iam-v1<1.0.0dev,>=0.12.4 in /usr/local/lib/python3.10/dist-packages (from google-cloud-logging<4.0.0,>=3.10.0->label-studio) (0.13.1)\n",
            "Requirement already satisfied: opentelemetry-api>=1.9.0 in /usr/local/lib/python3.10/dist-packages (from google-cloud-logging<4.0.0,>=3.10.0->label-studio) (1.16.0)\n",
            "Requirement already satisfied: proto-plus<2.0.0dev,>=1.22.0 in /usr/local/lib/python3.10/dist-packages (from google-cloud-logging<4.0.0,>=3.10.0->label-studio) (1.24.0)\n",
            "Requirement already satisfied: protobuf!=4.21.0,!=4.21.1,!=4.21.2,!=4.21.3,!=4.21.4,!=4.21.5,<6.0.0dev,>=3.20.2 in /usr/local/lib/python3.10/dist-packages (from google-cloud-logging<4.0.0,>=3.10.0->label-studio) (3.20.3)\n",
            "Requirement already satisfied: google-resumable-media>=2.7.2 in /usr/local/lib/python3.10/dist-packages (from google-cloud-storage<3.0.0,>=2.13.0->label-studio) (2.7.2)\n",
            "Requirement already satisfied: google-crc32c<2.0dev,>=1.0 in /usr/local/lib/python3.10/dist-packages (from google-cloud-storage<3.0.0,>=2.13.0->label-studio) (1.6.0)\n",
            "Collecting inflection>=0.3.1 (from humansignal-drf-yasg>=1.21.9->label-studio)\n",
            "  Downloading inflection-0.5.1-py2.py3-none-any.whl.metadata (1.7 kB)\n",
            "Requirement already satisfied: packaging>=21.0 in /usr/local/lib/python3.10/dist-packages (from humansignal-drf-yasg>=1.21.9->label-studio) (24.1)\n",
            "Requirement already satisfied: uritemplate>=3.0.0 in /usr/local/lib/python3.10/dist-packages (from humansignal-drf-yasg>=1.21.9->label-studio) (4.1.1)\n",
            "Requirement already satisfied: anyio<5,>=3.5.0 in /usr/local/lib/python3.10/dist-packages (from openai<2.0.0,>=1.10.0->label-studio) (3.7.1)\n",
            "Requirement already satisfied: distro<2,>=1.7.0 in /usr/lib/python3/dist-packages (from openai<2.0.0,>=1.10.0->label-studio) (1.7.0)\n",
            "Collecting jiter<1,>=0.4.0 (from openai<2.0.0,>=1.10.0->label-studio)\n",
            "  Downloading jiter-0.6.1-cp310-cp310-manylinux_2_17_x86_64.manylinux2014_x86_64.whl.metadata (5.2 kB)\n",
            "Requirement already satisfied: sniffio in /usr/local/lib/python3.10/dist-packages (from openai<2.0.0,>=1.10.0->label-studio) (1.3.1)\n",
            "Requirement already satisfied: tqdm>4 in /usr/local/lib/python3.10/dist-packages (from openai<2.0.0,>=1.10.0->label-studio) (4.66.5)\n",
            "Requirement already satisfied: tzdata>=2022.7 in /usr/local/lib/python3.10/dist-packages (from pandas>=0.24.0->label-studio) (2024.2)\n",
            "Requirement already satisfied: annotated-types>=0.6.0 in /usr/local/lib/python3.10/dist-packages (from pydantic>=2.7.3->label-studio) (0.7.0)\n",
            "Requirement already satisfied: pydantic-core==2.23.4 in /usr/local/lib/python3.10/dist-packages (from pydantic>=2.7.3->label-studio) (2.23.4)\n",
            "Requirement already satisfied: charset-normalizer<4,>=2 in /usr/local/lib/python3.10/dist-packages (from requests<2.33.0,>=2.32.3->label-studio) (3.4.0)\n",
            "Requirement already satisfied: idna<4,>=2.5 in /usr/local/lib/python3.10/dist-packages (from requests<2.33.0,>=2.32.3->label-studio) (3.10)\n",
            "Requirement already satisfied: exceptiongroup in /usr/local/lib/python3.10/dist-packages (from anyio<5,>=3.5.0->openai<2.0.0,>=1.10.0->label-studio) (1.2.2)\n",
            "Requirement already satisfied: cffi>=1.12 in /usr/local/lib/python3.10/dist-packages (from cryptography>=2.1.4->azure-storage-blob>=12.6.0->label-studio) (1.17.1)\n",
            "Requirement already satisfied: googleapis-common-protos<2.0.dev0,>=1.56.2 in /usr/local/lib/python3.10/dist-packages (from google-api-core!=2.0.*,!=2.1.*,!=2.10.*,!=2.2.*,!=2.3.*,!=2.4.*,!=2.5.*,!=2.6.*,!=2.7.*,!=2.8.*,!=2.9.*,<3.0.0dev,>=1.34.1->google-api-core[grpc]!=2.0.*,!=2.1.*,!=2.10.*,!=2.2.*,!=2.3.*,!=2.4.*,!=2.5.*,!=2.6.*,!=2.7.*,!=2.8.*,!=2.9.*,<3.0.0dev,>=1.34.1->google-cloud-logging<4.0.0,>=3.10.0->label-studio) (1.65.0)\n",
            "Requirement already satisfied: grpcio<2.0dev,>=1.33.2 in /usr/local/lib/python3.10/dist-packages (from google-api-core[grpc]!=2.0.*,!=2.1.*,!=2.10.*,!=2.2.*,!=2.3.*,!=2.4.*,!=2.5.*,!=2.6.*,!=2.7.*,!=2.8.*,!=2.9.*,<3.0.0dev,>=1.34.1->google-cloud-logging<4.0.0,>=3.10.0->label-studio) (1.64.1)\n",
            "Requirement already satisfied: grpcio-status<2.0.dev0,>=1.33.2 in /usr/local/lib/python3.10/dist-packages (from google-api-core[grpc]!=2.0.*,!=2.1.*,!=2.10.*,!=2.2.*,!=2.3.*,!=2.4.*,!=2.5.*,!=2.6.*,!=2.7.*,!=2.8.*,!=2.9.*,<3.0.0dev,>=1.34.1->google-cloud-logging<4.0.0,>=3.10.0->label-studio) (1.48.2)\n",
            "Requirement already satisfied: cachetools<6.0,>=2.0.0 in /usr/local/lib/python3.10/dist-packages (from google-auth!=2.24.0,!=2.25.0,<3.0.0dev,>=2.14.1->google-cloud-logging<4.0.0,>=3.10.0->label-studio) (5.5.0)\n",
            "Requirement already satisfied: pyasn1-modules>=0.2.1 in /usr/local/lib/python3.10/dist-packages (from google-auth!=2.24.0,!=2.25.0,<3.0.0dev,>=2.14.1->google-cloud-logging<4.0.0,>=3.10.0->label-studio) (0.4.1)\n",
            "Requirement already satisfied: rsa<5,>=3.1.4 in /usr/local/lib/python3.10/dist-packages (from google-auth!=2.24.0,!=2.25.0,<3.0.0dev,>=2.14.1->google-cloud-logging<4.0.0,>=3.10.0->label-studio) (4.9)\n",
            "Collecting httpcore==1.* (from httpx>=0.21.2->label-studio-sdk==1.0.5->label-studio)\n",
            "  Downloading httpcore-1.0.6-py3-none-any.whl.metadata (21 kB)\n",
            "Collecting h11<0.15,>=0.13 (from httpcore==1.*->httpx>=0.21.2->label-studio-sdk==1.0.5->label-studio)\n",
            "  Downloading h11-0.14.0-py3-none-any.whl.metadata (8.2 kB)\n",
            "Requirement already satisfied: joblib in /usr/local/lib/python3.10/dist-packages (from nltk<4.0.0,>=3.8.2->label-studio-sdk==1.0.5->label-studio) (1.4.2)\n",
            "Requirement already satisfied: regex>=2021.8.3 in /usr/local/lib/python3.10/dist-packages (from nltk<4.0.0,>=3.8.2->label-studio-sdk==1.0.5->label-studio) (2024.9.11)\n",
            "Requirement already satisfied: deprecated>=1.2.6 in /usr/local/lib/python3.10/dist-packages (from opentelemetry-api>=1.9.0->google-cloud-logging<4.0.0,>=3.10.0->label-studio) (1.2.14)\n",
            "Collecting ua-parser>=0.10.0 (from user-agents->django-user-agents==0.4.0->label-studio)\n",
            "  Downloading ua_parser-0.18.0-py2.py3-none-any.whl.metadata (1.4 kB)\n",
            "Requirement already satisfied: pycparser in /usr/local/lib/python3.10/dist-packages (from cffi>=1.12->cryptography>=2.1.4->azure-storage-blob>=12.6.0->label-studio) (2.22)\n",
            "Requirement already satisfied: wrapt<2,>=1.10 in /usr/local/lib/python3.10/dist-packages (from deprecated>=1.2.6->opentelemetry-api>=1.9.0->google-cloud-logging<4.0.0,>=3.10.0->label-studio) (1.16.0)\n",
            "Requirement already satisfied: pyasn1<0.7.0,>=0.4.6 in /usr/local/lib/python3.10/dist-packages (from pyasn1-modules>=0.2.1->google-auth!=2.24.0,!=2.25.0,<3.0.0dev,>=2.14.1->google-cloud-logging<4.0.0,>=3.10.0->label-studio) (0.6.1)\n",
            "Downloading label_studio-1.13.1-py3-none-any.whl (82.4 MB)\n",
            "\u001b[2K   \u001b[90m━━━━━━━━━━━━━━━━━━━━━━━━━━━━━━━━━━━━━━━━\u001b[0m \u001b[32m82.4/82.4 MB\u001b[0m \u001b[31m8.9 MB/s\u001b[0m eta \u001b[36m0:00:00\u001b[0m\n",
            "\u001b[?25hDownloading django_annoying-0.10.6-py2.py3-none-any.whl (9.5 kB)\n",
            "Downloading django_cors_headers-3.6.0-py3-none-any.whl (12 kB)\n",
            "Downloading django_csp-3.7-py2.py3-none-any.whl (17 kB)\n",
            "Downloading django_debug_toolbar-3.2.1-py3-none-any.whl (199 kB)\n",
            "\u001b[2K   \u001b[90m━━━━━━━━━━━━━━━━━━━━━━━━━━━━━━━━━━━━━━━━\u001b[0m \u001b[32m199.2/199.2 kB\u001b[0m \u001b[31m14.8 MB/s\u001b[0m eta \u001b[36m0:00:00\u001b[0m\n",
            "\u001b[?25hDownloading django_environ-0.10.0-py2.py3-none-any.whl (19 kB)\n",
            "Downloading django_extensions-3.1.0-py3-none-any.whl (222 kB)\n",
            "\u001b[2K   \u001b[90m━━━━━━━━━━━━━━━━━━━━━━━━━━━━━━━━━━━━━━━━\u001b[0m \u001b[32m222.0/222.0 kB\u001b[0m \u001b[31m16.3 MB/s\u001b[0m eta \u001b[36m0:00:00\u001b[0m\n",
            "\u001b[?25hDownloading django_filter-2.4.0-py3-none-any.whl (73 kB)\n",
            "\u001b[2K   \u001b[90m━━━━━━━━━━━━━━━━━━━━━━━━━━━━━━━━━━━━━━━━\u001b[0m \u001b[32m73.2/73.2 kB\u001b[0m \u001b[31m6.2 MB/s\u001b[0m eta \u001b[36m0:00:00\u001b[0m\n",
            "\u001b[?25hDownloading django_model_utils-4.1.1-py3-none-any.whl (32 kB)\n",
            "Downloading django_rq-2.5.1-py2.py3-none-any.whl (48 kB)\n",
            "\u001b[2K   \u001b[90m━━━━━━━━━━━━━━━━━━━━━━━━━━━━━━━━━━━━━━━━\u001b[0m \u001b[32m48.3/48.3 kB\u001b[0m \u001b[31m3.7 MB/s\u001b[0m eta \u001b[36m0:00:00\u001b[0m\n",
            "\u001b[?25hDownloading django_storages-1.12.3-py3-none-any.whl (44 kB)\n",
            "\u001b[2K   \u001b[90m━━━━━━━━━━━━━━━━━━━━━━━━━━━━━━━━━━━━━━━━\u001b[0m \u001b[32m45.0/45.0 kB\u001b[0m \u001b[31m2.9 MB/s\u001b[0m eta \u001b[36m0:00:00\u001b[0m\n",
            "\u001b[?25hDownloading django_user_agents-0.4.0-py3-none-any.whl (8.6 kB)\n",
            "Downloading djangorestframework-3.13.1-py3-none-any.whl (958 kB)\n",
            "\u001b[2K   \u001b[90m━━━━━━━━━━━━━━━━━━━━━━━━━━━━━━━━━━━━━━━━\u001b[0m \u001b[32m958.3/958.3 kB\u001b[0m \u001b[31m41.7 MB/s\u001b[0m eta \u001b[36m0:00:00\u001b[0m\n",
            "\u001b[?25hDownloading drf_dynamic_fields-0.3.0-py2.py3-none-any.whl (6.6 kB)\n",
            "Downloading jsonschema-3.2.0-py2.py3-none-any.whl (56 kB)\n",
            "\u001b[2K   \u001b[90m━━━━━━━━━━━━━━━━━━━━━━━━━━━━━━━━━━━━━━━━\u001b[0m \u001b[32m56.3/56.3 kB\u001b[0m \u001b[31m4.0 MB/s\u001b[0m eta \u001b[36m0:00:00\u001b[0m\n",
            "\u001b[?25hDownloading label_studio_sdk-1.0.5-py3-none-any.whl (318 kB)\n",
            "\u001b[2K   \u001b[90m━━━━━━━━━━━━━━━━━━━━━━━━━━━━━━━━━━━━━━━━\u001b[0m \u001b[32m318.8/318.8 kB\u001b[0m \u001b[31m17.4 MB/s\u001b[0m eta \u001b[36m0:00:00\u001b[0m\n",
            "\u001b[?25hDownloading launchdarkly_server_sdk-8.2.1-py3-none-any.whl (171 kB)\n",
            "\u001b[2K   \u001b[90m━━━━━━━━━━━━━━━━━━━━━━━━━━━━━━━━━━━━━━━━\u001b[0m \u001b[32m172.0/172.0 kB\u001b[0m \u001b[31m9.6 MB/s\u001b[0m eta \u001b[36m0:00:00\u001b[0m\n",
            "\u001b[?25hDownloading psycopg2_binary-2.9.9-cp310-cp310-manylinux_2_17_x86_64.manylinux2014_x86_64.whl (3.0 MB)\n",
            "\u001b[2K   \u001b[90m━━━━━━━━━━━━━━━━━━━━━━━━━━━━━━━━━━━━━━━━\u001b[0m \u001b[32m3.0/3.0 MB\u001b[0m \u001b[31m61.1 MB/s\u001b[0m eta \u001b[36m0:00:00\u001b[0m\n",
            "\u001b[?25hDownloading python_json_logger-2.0.4-py3-none-any.whl (7.8 kB)\n",
            "Downloading rq-1.10.1-py2.py3-none-any.whl (70 kB)\n",
            "\u001b[2K   \u001b[90m━━━━━━━━━━━━━━━━━━━━━━━━━━━━━━━━━━━━━━━━\u001b[0m \u001b[32m70.4/70.4 kB\u001b[0m \u001b[31m4.4 MB/s\u001b[0m eta \u001b[36m0:00:00\u001b[0m\n",
            "\u001b[?25hDownloading xmljson-0.2.1-py2.py3-none-any.whl (10 kB)\n",
            "Downloading requests_mock-1.12.1-py2.py3-none-any.whl (27 kB)\n",
            "Downloading appdirs-1.4.4-py2.py3-none-any.whl (9.6 kB)\n",
            "Downloading azure_storage_blob-12.23.1-py3-none-any.whl (405 kB)\n",
            "\u001b[2K   \u001b[90m━━━━━━━━━━━━━━━━━━━━━━━━━━━━━━━━━━━━━━━━\u001b[0m \u001b[32m405.6/405.6 kB\u001b[0m \u001b[31m24.0 MB/s\u001b[0m eta \u001b[36m0:00:00\u001b[0m\n",
            "\u001b[?25hDownloading bleach-5.0.1-py3-none-any.whl (160 kB)\n",
            "\u001b[2K   \u001b[90m━━━━━━━━━━━━━━━━━━━━━━━━━━━━━━━━━━━━━━━━\u001b[0m \u001b[32m160.9/160.9 kB\u001b[0m \u001b[31m10.8 MB/s\u001b[0m eta \u001b[36m0:00:00\u001b[0m\n",
            "\u001b[?25hDownloading boto-2.49.0-py2.py3-none-any.whl (1.4 MB)\n",
            "\u001b[2K   \u001b[90m━━━━━━━━━━━━━━━━━━━━━━━━━━━━━━━━━━━━━━━━\u001b[0m \u001b[32m1.4/1.4 MB\u001b[0m \u001b[31m51.2 MB/s\u001b[0m eta \u001b[36m0:00:00\u001b[0m\n",
            "\u001b[?25hDownloading boto3-1.35.45-py3-none-any.whl (139 kB)\n",
            "\u001b[2K   \u001b[90m━━━━━━━━━━━━━━━━━━━━━━━━━━━━━━━━━━━━━━━━\u001b[0m \u001b[32m139.2/139.2 kB\u001b[0m \u001b[31m8.9 MB/s\u001b[0m eta \u001b[36m0:00:00\u001b[0m\n",
            "\u001b[?25hDownloading botocore-1.35.45-py3-none-any.whl (12.6 MB)\n",
            "\u001b[2K   \u001b[90m━━━━━━━━━━━━━━━━━━━━━━━━━━━━━━━━━━━━━━━━\u001b[0m \u001b[32m12.6/12.6 MB\u001b[0m \u001b[31m80.6 MB/s\u001b[0m eta \u001b[36m0:00:00\u001b[0m\n",
            "\u001b[?25hDownloading boxing-0.1.4-py3-none-any.whl (3.9 kB)\n",
            "Downloading colorama-0.4.6-py2.py3-none-any.whl (25 kB)\n",
            "Downloading Django-3.2.25-py3-none-any.whl (7.9 MB)\n",
            "\u001b[2K   \u001b[90m━━━━━━━━━━━━━━━━━━━━━━━━━━━━━━━━━━━━━━━━\u001b[0m \u001b[32m7.9/7.9 MB\u001b[0m \u001b[31m80.9 MB/s\u001b[0m eta \u001b[36m0:00:00\u001b[0m\n",
            "\u001b[?25hDownloading google_cloud_logging-3.11.3-py2.py3-none-any.whl (218 kB)\n",
            "\u001b[2K   \u001b[90m━━━━━━━━━━━━━━━━━━━━━━━━━━━━━━━━━━━━━━━━\u001b[0m \u001b[32m218.9/218.9 kB\u001b[0m \u001b[31m13.7 MB/s\u001b[0m eta \u001b[36m0:00:00\u001b[0m\n",
            "\u001b[?25hDownloading google_cloud_storage-2.18.2-py2.py3-none-any.whl (130 kB)\n",
            "\u001b[2K   \u001b[90m━━━━━━━━━━━━━━━━━━━━━━━━━━━━━━━━━━━━━━━━\u001b[0m \u001b[32m130.5/130.5 kB\u001b[0m \u001b[31m9.2 MB/s\u001b[0m eta \u001b[36m0:00:00\u001b[0m\n",
            "\u001b[?25hDownloading humansignal_drf_yasg-1.21.9-py3-none-any.whl (4.3 MB)\n",
            "\u001b[2K   \u001b[90m━━━━━━━━━━━━━━━━━━━━━━━━━━━━━━━━━━━━━━━━\u001b[0m \u001b[32m4.3/4.3 MB\u001b[0m \u001b[31m78.1 MB/s\u001b[0m eta \u001b[36m0:00:00\u001b[0m\n",
            "\u001b[?25hDownloading lockfile-0.12.2-py2.py3-none-any.whl (13 kB)\n",
            "Downloading openai-1.52.0-py3-none-any.whl (386 kB)\n",
            "\u001b[2K   \u001b[90m━━━━━━━━━━━━━━━━━━━━━━━━━━━━━━━━━━━━━━━━\u001b[0m \u001b[32m386.9/386.9 kB\u001b[0m \u001b[31m25.5 MB/s\u001b[0m eta \u001b[36m0:00:00\u001b[0m\n",
            "\u001b[?25hDownloading pytz-2022.7.1-py2.py3-none-any.whl (499 kB)\n",
            "\u001b[2K   \u001b[90m━━━━━━━━━━━━━━━━━━━━━━━━━━━━━━━━━━━━━━━━\u001b[0m \u001b[32m499.4/499.4 kB\u001b[0m \u001b[31m25.8 MB/s\u001b[0m eta \u001b[36m0:00:00\u001b[0m\n",
            "\u001b[?25hDownloading redis-3.5.3-py2.py3-none-any.whl (72 kB)\n",
            "\u001b[2K   \u001b[90m━━━━━━━━━━━━━━━━━━━━━━━━━━━━━━━━━━━━━━━━\u001b[0m \u001b[32m72.1/72.1 kB\u001b[0m \u001b[31m4.6 MB/s\u001b[0m eta \u001b[36m0:00:00\u001b[0m\n",
            "\u001b[?25hDownloading ujson-5.10.0-cp310-cp310-manylinux_2_17_x86_64.manylinux2014_x86_64.whl (53 kB)\n",
            "\u001b[2K   \u001b[90m━━━━━━━━━━━━━━━━━━━━━━━━━━━━━━━━━━━━━━━━\u001b[0m \u001b[32m53.6/53.6 kB\u001b[0m \u001b[31m3.7 MB/s\u001b[0m eta \u001b[36m0:00:00\u001b[0m\n",
            "\u001b[?25hDownloading urllib3-1.26.20-py2.py3-none-any.whl (144 kB)\n",
            "\u001b[2K   \u001b[90m━━━━━━━━━━━━━━━━━━━━━━━━━━━━━━━━━━━━━━━━\u001b[0m \u001b[32m144.2/144.2 kB\u001b[0m \u001b[31m10.7 MB/s\u001b[0m eta \u001b[36m0:00:00\u001b[0m\n",
            "\u001b[?25hDownloading wheel-0.40.0-py3-none-any.whl (64 kB)\n",
            "\u001b[2K   \u001b[90m━━━━━━━━━━━━━━━━━━━━━━━━━━━━━━━━━━━━━━━━\u001b[0m \u001b[32m64.5/64.5 kB\u001b[0m \u001b[31m5.1 MB/s\u001b[0m eta \u001b[36m0:00:00\u001b[0m\n",
            "\u001b[?25hDownloading asgiref-3.8.1-py3-none-any.whl (23 kB)\n",
            "Downloading azure_core-1.31.0-py3-none-any.whl (197 kB)\n",
            "\u001b[2K   \u001b[90m━━━━━━━━━━━━━━━━━━━━━━━━━━━━━━━━━━━━━━━━\u001b[0m \u001b[32m197.4/197.4 kB\u001b[0m \u001b[31m11.8 MB/s\u001b[0m eta \u001b[36m0:00:00\u001b[0m\n",
            "\u001b[?25hDownloading expiringdict-1.2.2-py3-none-any.whl (8.5 kB)\n",
            "Downloading google_cloud_appengine_logging-1.4.5-py2.py3-none-any.whl (15 kB)\n",
            "Downloading google_cloud_audit_log-0.3.0-py2.py3-none-any.whl (27 kB)\n",
            "Downloading httpx-0.27.2-py3-none-any.whl (76 kB)\n",
            "\u001b[2K   \u001b[90m━━━━━━━━━━━━━━━━━━━━━━━━━━━━━━━━━━━━━━━━\u001b[0m \u001b[32m76.4/76.4 kB\u001b[0m \u001b[31m5.0 MB/s\u001b[0m eta \u001b[36m0:00:00\u001b[0m\n",
            "\u001b[?25hDownloading httpcore-1.0.6-py3-none-any.whl (78 kB)\n",
            "\u001b[2K   \u001b[90m━━━━━━━━━━━━━━━━━━━━━━━━━━━━━━━━━━━━━━━━\u001b[0m \u001b[32m78.0/78.0 kB\u001b[0m \u001b[31m5.2 MB/s\u001b[0m eta \u001b[36m0:00:00\u001b[0m\n",
            "\u001b[?25hDownloading ijson-3.3.0-cp310-cp310-manylinux_2_17_x86_64.manylinux2014_x86_64.whl (114 kB)\n",
            "\u001b[2K   \u001b[90m━━━━━━━━━━━━━━━━━━━━━━━━━━━━━━━━━━━━━━━━\u001b[0m \u001b[32m114.5/114.5 kB\u001b[0m \u001b[31m8.9 MB/s\u001b[0m eta \u001b[36m0:00:00\u001b[0m\n",
            "\u001b[?25hDownloading inflection-0.5.1-py2.py3-none-any.whl (9.5 kB)\n",
            "Downloading isodate-0.7.2-py3-none-any.whl (22 kB)\n",
            "Downloading jiter-0.6.1-cp310-cp310-manylinux_2_17_x86_64.manylinux2014_x86_64.whl (325 kB)\n",
            "\u001b[2K   \u001b[90m━━━━━━━━━━━━━━━━━━━━━━━━━━━━━━━━━━━━━━━━\u001b[0m \u001b[32m325.2/325.2 kB\u001b[0m \u001b[31m19.6 MB/s\u001b[0m eta \u001b[36m0:00:00\u001b[0m\n",
            "\u001b[?25hDownloading jmespath-1.0.1-py3-none-any.whl (20 kB)\n",
            "Downloading nltk-3.9.1-py3-none-any.whl (1.5 MB)\n",
            "\u001b[2K   \u001b[90m━━━━━━━━━━━━━━━━━━━━━━━━━━━━━━━━━━━━━━━━\u001b[0m \u001b[32m1.5/1.5 MB\u001b[0m \u001b[31m41.8 MB/s\u001b[0m eta \u001b[36m0:00:00\u001b[0m\n",
            "\u001b[?25hDownloading pyRFC3339-1.1-py2.py3-none-any.whl (5.7 kB)\n",
            "Downloading pyrsistent-0.20.0-cp310-cp310-manylinux_2_17_x86_64.manylinux2014_x86_64.whl (117 kB)\n",
            "\u001b[2K   \u001b[90m━━━━━━━━━━━━━━━━━━━━━━━━━━━━━━━━━━━━━━━━\u001b[0m \u001b[32m117.7/117.7 kB\u001b[0m \u001b[31m9.0 MB/s\u001b[0m eta \u001b[36m0:00:00\u001b[0m\n",
            "\u001b[?25hDownloading s3transfer-0.10.3-py3-none-any.whl (82 kB)\n",
            "\u001b[2K   \u001b[90m━━━━━━━━━━━━━━━━━━━━━━━━━━━━━━━━━━━━━━━━\u001b[0m \u001b[32m82.6/82.6 kB\u001b[0m \u001b[31m6.6 MB/s\u001b[0m eta \u001b[36m0:00:00\u001b[0m\n",
            "\u001b[?25hDownloading semver-3.0.2-py3-none-any.whl (17 kB)\n",
            "Downloading user_agents-2.2.0-py3-none-any.whl (9.6 kB)\n",
            "Downloading ua_parser-0.18.0-py2.py3-none-any.whl (38 kB)\n",
            "Downloading h11-0.14.0-py3-none-any.whl (58 kB)\n",
            "\u001b[2K   \u001b[90m━━━━━━━━━━━━━━━━━━━━━━━━━━━━━━━━━━━━━━━━\u001b[0m \u001b[32m58.3/58.3 kB\u001b[0m \u001b[31m3.7 MB/s\u001b[0m eta \u001b[36m0:00:00\u001b[0m\n",
            "\u001b[?25hBuilding wheels for collected packages: attr, drf-flex-fields, drf-generators, htmlmin, ordered-set, rules, django-ranged-fileresponse\n",
            "  Building wheel for attr (setup.py) ... \u001b[?25l\u001b[?25hdone\n",
            "  Created wheel for attr: filename=attr-0.3.1-py3-none-any.whl size=2443 sha256=d8ab7722abed0030036a33a933814470ee7f171a1ff63d4abf9c87bafcf98e55\n",
            "  Stored in directory: /root/.cache/pip/wheels/77/f7/fa/f3c975647897f6c458743646f9e987ab5bad62924d30284726\n",
            "  Building wheel for drf-flex-fields (setup.py) ... \u001b[?25l\u001b[?25hdone\n",
            "  Created wheel for drf-flex-fields: filename=drf_flex_fields-0.9.5-py3-none-any.whl size=14424 sha256=07552b2f816406e37b947ec27bf48b603ea1ee9be4adc70eef0c98c805e6a1a2\n",
            "  Stored in directory: /root/.cache/pip/wheels/a7/c7/cd/d1c736f1f97603c2ad223db5689c9b9603c2d53890fe156fc8\n",
            "  Building wheel for drf-generators (setup.py) ... \u001b[?25l\u001b[?25hdone\n",
            "  Created wheel for drf-generators: filename=drf_generators-0.3.0-py2.py3-none-any.whl size=9770 sha256=164095c4349ebbd4f40d852d00950f1d0a09ee268bce197b705d05b4781fc75f\n",
            "  Stored in directory: /root/.cache/pip/wheels/bd/b0/47/0389db14737660b01d4b8fd891921ef143296b8cce62fcbef5\n",
            "  Building wheel for htmlmin (setup.py) ... \u001b[?25l\u001b[?25hdone\n",
            "  Created wheel for htmlmin: filename=htmlmin-0.1.12-py3-none-any.whl size=27081 sha256=88a9435a689c49a4d7f9618e457fabd81e448ee98608f9a1d4493f1455554a99\n",
            "  Stored in directory: /root/.cache/pip/wheels/dd/91/29/a79cecb328d01739e64017b6fb9a1ab9d8cb1853098ec5966d\n",
            "  Building wheel for ordered-set (setup.py) ... \u001b[?25l\u001b[?25hdone\n",
            "  Created wheel for ordered-set: filename=ordered_set-4.0.2-py2.py3-none-any.whl size=8217 sha256=f2dfb65da175392f6c51311dcb11614b547e2e2c0ca31f9a2acf34831eac79fa\n",
            "  Stored in directory: /root/.cache/pip/wheels/a0/7b/e7/13d20d03563090b0f5a6450dc297cd6d8583358e3755670da6\n",
            "  Building wheel for rules (setup.py) ... \u001b[?25l\u001b[?25hdone\n",
            "  Created wheel for rules: filename=rules-2.2-py2.py3-none-any.whl size=25813 sha256=31f65569043440e2e71582425754880ca4ac139d86029b488391013eb5af5981\n",
            "  Stored in directory: /root/.cache/pip/wheels/08/43/28/3a8f0f0100d724be7edb32d67140297268d83ad2718ce19b46\n",
            "  Building wheel for django-ranged-fileresponse (setup.py) ... \u001b[?25l\u001b[?25hdone\n",
            "  Created wheel for django-ranged-fileresponse: filename=django_ranged_fileresponse-0.1.2-py3-none-any.whl size=3227 sha256=82d6cac8ad4536725e105b52ef9ca900b49132b9abd4c2e1dc6d5f11615aa002\n",
            "  Stored in directory: /root/.cache/pip/wheels/0a/39/8d/3e779f86f962b817d1acce58407c5a68385da4f77d73fc1a97\n",
            "Successfully built attr drf-flex-fields drf-generators htmlmin ordered-set rules django-ranged-fileresponse\n",
            "Installing collected packages: xmljson, ua-parser, rules, pytz, lockfile, ijson, htmlmin, expiringdict, drf-flex-fields, drf-dynamic-fields, django-ranged-fileresponse, boxing, boto, attr, appdirs, wheel, user-agents, urllib3, ujson, semver, redis, python-json-logger, pyrsistent, pyRFC3339, psycopg2-binary, ordered-set, nltk, jmespath, jiter, isodate, inflection, h11, django-extensions, django-environ, colorama, bleach, asgiref, rq, launchdarkly-server-sdk, jsonschema, httpcore, google-cloud-audit-log, Django, botocore, s3transfer, requests-mock, httpx, drf-generators, djangorestframework, django-user-agents, django-storages, django-rq, django-model-utils, django-filter, django-debug-toolbar, django-csp, django-cors-headers, django-annoying, azure-core, openai, label-studio-sdk, humansignal-drf-yasg, boto3, azure-storage-blob, google-cloud-storage, google-cloud-appengine-logging, google-cloud-logging, label-studio\n",
            "  Attempting uninstall: pytz\n",
            "    Found existing installation: pytz 2024.2\n",
            "    Uninstalling pytz-2024.2:\n",
            "      Successfully uninstalled pytz-2024.2\n",
            "  Attempting uninstall: wheel\n",
            "    Found existing installation: wheel 0.44.0\n",
            "    Uninstalling wheel-0.44.0:\n",
            "      Successfully uninstalled wheel-0.44.0\n",
            "  Attempting uninstall: urllib3\n",
            "    Found existing installation: urllib3 2.2.3\n",
            "    Uninstalling urllib3-2.2.3:\n",
            "      Successfully uninstalled urllib3-2.2.3\n",
            "  Attempting uninstall: nltk\n",
            "    Found existing installation: nltk 3.8.1\n",
            "    Uninstalling nltk-3.8.1:\n",
            "      Successfully uninstalled nltk-3.8.1\n",
            "  Attempting uninstall: bleach\n",
            "    Found existing installation: bleach 6.1.0\n",
            "    Uninstalling bleach-6.1.0:\n",
            "      Successfully uninstalled bleach-6.1.0\n",
            "  Attempting uninstall: jsonschema\n",
            "    Found existing installation: jsonschema 4.23.0\n",
            "    Uninstalling jsonschema-4.23.0:\n",
            "      Successfully uninstalled jsonschema-4.23.0\n",
            "  Attempting uninstall: google-cloud-storage\n",
            "    Found existing installation: google-cloud-storage 2.8.0\n",
            "    Uninstalling google-cloud-storage-2.8.0:\n",
            "      Successfully uninstalled google-cloud-storage-2.8.0\n",
            "Successfully installed Django-3.2.25 appdirs-1.4.4 asgiref-3.8.1 attr-0.3.1 azure-core-1.31.0 azure-storage-blob-12.23.1 bleach-5.0.1 boto-2.49.0 boto3-1.35.45 botocore-1.35.45 boxing-0.1.4 colorama-0.4.6 django-annoying-0.10.6 django-cors-headers-3.6.0 django-csp-3.7 django-debug-toolbar-3.2.1 django-environ-0.10.0 django-extensions-3.1.0 django-filter-2.4.0 django-model-utils-4.1.1 django-ranged-fileresponse-0.1.2 django-rq-2.5.1 django-storages-1.12.3 django-user-agents-0.4.0 djangorestframework-3.13.1 drf-dynamic-fields-0.3.0 drf-flex-fields-0.9.5 drf-generators-0.3.0 expiringdict-1.2.2 google-cloud-appengine-logging-1.4.5 google-cloud-audit-log-0.3.0 google-cloud-logging-3.11.3 google-cloud-storage-2.18.2 h11-0.14.0 htmlmin-0.1.12 httpcore-1.0.6 httpx-0.27.2 humansignal-drf-yasg-1.21.9 ijson-3.3.0 inflection-0.5.1 isodate-0.7.2 jiter-0.6.1 jmespath-1.0.1 jsonschema-3.2.0 label-studio-1.13.1 label-studio-sdk-1.0.5 launchdarkly-server-sdk-8.2.1 lockfile-0.12.2 nltk-3.9.1 openai-1.52.0 ordered-set-4.0.2 psycopg2-binary-2.9.9 pyRFC3339-1.1 pyrsistent-0.20.0 python-json-logger-2.0.4 pytz-2022.7.1 redis-3.5.3 requests-mock-1.12.1 rq-1.10.1 rules-2.2 s3transfer-0.10.3 semver-3.0.2 ua-parser-0.18.0 ujson-5.10.0 urllib3-1.26.20 user-agents-2.2.0 wheel-0.40.0 xmljson-0.2.1\n"
          ]
        },
        {
          "output_type": "display_data",
          "data": {
            "application/vnd.colab-display-data+json": {
              "pip_warning": {
                "packages": [
                  "google"
                ]
              },
              "id": "3a001d747f144c92a06830200acab261"
            }
          },
          "metadata": {}
        },
        {
          "output_type": "stream",
          "name": "stdout",
          "text": [
            "Requirement already satisfied: matplotlib in /usr/local/lib/python3.10/dist-packages (3.7.1)\n",
            "Requirement already satisfied: contourpy>=1.0.1 in /usr/local/lib/python3.10/dist-packages (from matplotlib) (1.3.0)\n",
            "Requirement already satisfied: cycler>=0.10 in /usr/local/lib/python3.10/dist-packages (from matplotlib) (0.12.1)\n",
            "Requirement already satisfied: fonttools>=4.22.0 in /usr/local/lib/python3.10/dist-packages (from matplotlib) (4.54.1)\n",
            "Requirement already satisfied: kiwisolver>=1.0.1 in /usr/local/lib/python3.10/dist-packages (from matplotlib) (1.4.7)\n",
            "Requirement already satisfied: numpy>=1.20 in /usr/local/lib/python3.10/dist-packages (from matplotlib) (1.26.4)\n",
            "Requirement already satisfied: packaging>=20.0 in /usr/local/lib/python3.10/dist-packages (from matplotlib) (24.1)\n",
            "Requirement already satisfied: pillow>=6.2.0 in /usr/local/lib/python3.10/dist-packages (from matplotlib) (10.4.0)\n",
            "Requirement already satisfied: pyparsing>=2.3.1 in /usr/local/lib/python3.10/dist-packages (from matplotlib) (3.2.0)\n",
            "Requirement already satisfied: python-dateutil>=2.7 in /usr/local/lib/python3.10/dist-packages (from matplotlib) (2.8.2)\n",
            "Requirement already satisfied: six>=1.5 in /usr/local/lib/python3.10/dist-packages (from python-dateutil>=2.7->matplotlib) (1.16.0)\n",
            "Collecting wget\n",
            "  Downloading wget-3.2.zip (10 kB)\n",
            "  Preparing metadata (setup.py) ... \u001b[?25l\u001b[?25hdone\n",
            "Building wheels for collected packages: wget\n",
            "  Building wheel for wget (setup.py) ... \u001b[?25l\u001b[?25hdone\n",
            "  Created wheel for wget: filename=wget-3.2-py3-none-any.whl size=9656 sha256=5fef965e8471c26cbb2445ea28c4f90c434f9d0ce43fb0af83477bdc67a9e540\n",
            "  Stored in directory: /root/.cache/pip/wheels/8b/f1/7f/5c94f0a7a505ca1c81cd1d9208ae2064675d97582078e6c769\n",
            "Successfully built wget\n",
            "Installing collected packages: wget\n",
            "Successfully installed wget-3.2\n"
          ]
        }
      ],
      "source": [
        "!pip install pandas\n",
        "!pip install nltk\n",
        "!pip install scikit-learn\n",
        "!pip install label-studio\n",
        "!pip install matplotlib\n",
        "!pip install wget"
      ]
    },
    {
      "cell_type": "code",
      "execution_count": 2,
      "id": "a62ab52d-c7f3-408f-99f8-550b53ff2a16",
      "metadata": {
        "ExecuteTime": {
          "end_time": "2024-04-15T13:44:04.952159Z",
          "start_time": "2024-04-15T13:43:57.952664Z"
        },
        "colab": {
          "base_uri": "https://localhost:8080/"
        },
        "id": "a62ab52d-c7f3-408f-99f8-550b53ff2a16",
        "outputId": "b0e40672-0375-4034-fda2-9707d7649309"
      },
      "outputs": [
        {
          "output_type": "stream",
          "name": "stderr",
          "text": [
            "[nltk_data] Downloading package punkt to /root/nltk_data...\n",
            "[nltk_data]   Unzipping tokenizers/punkt.zip.\n"
          ]
        }
      ],
      "source": [
        "import pandas as pd\n",
        "import nltk\n",
        "# Загружаем предобученную модель токенизации текста\n",
        "nltk.download('punkt')\n",
        "import csv\n",
        "import os\n",
        "import wget\n",
        "from sklearn.utils import shuffle\n",
        "from sklearn.model_selection import train_test_split\n",
        "import matplotlib\n",
        "from sklearn.preprocessing import LabelEncoder\n",
        "from sklearn.feature_extraction.text import TfidfVectorizer\n",
        "from sklearn.linear_model import LogisticRegression\n",
        "import numpy as np\n",
        "from sklearn.metrics import f1_score"
      ]
    },
    {
      "cell_type": "code",
      "source": [
        "from google.colab import files\n",
        "uploaded = files.upload()"
      ],
      "metadata": {
        "colab": {
          "base_uri": "https://localhost:8080/",
          "height": 73
        },
        "id": "Qg48xbDVkVt3",
        "outputId": "1fbb6eab-56cd-4d50-da41-aacd62172f08"
      },
      "id": "Qg48xbDVkVt3",
      "execution_count": 5,
      "outputs": [
        {
          "output_type": "display_data",
          "data": {
            "text/plain": [
              "<IPython.core.display.HTML object>"
            ],
            "text/html": [
              "\n",
              "     <input type=\"file\" id=\"files-2e30c44e-1328-4164-a0ae-acca26280722\" name=\"files[]\" multiple disabled\n",
              "        style=\"border:none\" />\n",
              "     <output id=\"result-2e30c44e-1328-4164-a0ae-acca26280722\">\n",
              "      Upload widget is only available when the cell has been executed in the\n",
              "      current browser session. Please rerun this cell to enable.\n",
              "      </output>\n",
              "      <script>// Copyright 2017 Google LLC\n",
              "//\n",
              "// Licensed under the Apache License, Version 2.0 (the \"License\");\n",
              "// you may not use this file except in compliance with the License.\n",
              "// You may obtain a copy of the License at\n",
              "//\n",
              "//      http://www.apache.org/licenses/LICENSE-2.0\n",
              "//\n",
              "// Unless required by applicable law or agreed to in writing, software\n",
              "// distributed under the License is distributed on an \"AS IS\" BASIS,\n",
              "// WITHOUT WARRANTIES OR CONDITIONS OF ANY KIND, either express or implied.\n",
              "// See the License for the specific language governing permissions and\n",
              "// limitations under the License.\n",
              "\n",
              "/**\n",
              " * @fileoverview Helpers for google.colab Python module.\n",
              " */\n",
              "(function(scope) {\n",
              "function span(text, styleAttributes = {}) {\n",
              "  const element = document.createElement('span');\n",
              "  element.textContent = text;\n",
              "  for (const key of Object.keys(styleAttributes)) {\n",
              "    element.style[key] = styleAttributes[key];\n",
              "  }\n",
              "  return element;\n",
              "}\n",
              "\n",
              "// Max number of bytes which will be uploaded at a time.\n",
              "const MAX_PAYLOAD_SIZE = 100 * 1024;\n",
              "\n",
              "function _uploadFiles(inputId, outputId) {\n",
              "  const steps = uploadFilesStep(inputId, outputId);\n",
              "  const outputElement = document.getElementById(outputId);\n",
              "  // Cache steps on the outputElement to make it available for the next call\n",
              "  // to uploadFilesContinue from Python.\n",
              "  outputElement.steps = steps;\n",
              "\n",
              "  return _uploadFilesContinue(outputId);\n",
              "}\n",
              "\n",
              "// This is roughly an async generator (not supported in the browser yet),\n",
              "// where there are multiple asynchronous steps and the Python side is going\n",
              "// to poll for completion of each step.\n",
              "// This uses a Promise to block the python side on completion of each step,\n",
              "// then passes the result of the previous step as the input to the next step.\n",
              "function _uploadFilesContinue(outputId) {\n",
              "  const outputElement = document.getElementById(outputId);\n",
              "  const steps = outputElement.steps;\n",
              "\n",
              "  const next = steps.next(outputElement.lastPromiseValue);\n",
              "  return Promise.resolve(next.value.promise).then((value) => {\n",
              "    // Cache the last promise value to make it available to the next\n",
              "    // step of the generator.\n",
              "    outputElement.lastPromiseValue = value;\n",
              "    return next.value.response;\n",
              "  });\n",
              "}\n",
              "\n",
              "/**\n",
              " * Generator function which is called between each async step of the upload\n",
              " * process.\n",
              " * @param {string} inputId Element ID of the input file picker element.\n",
              " * @param {string} outputId Element ID of the output display.\n",
              " * @return {!Iterable<!Object>} Iterable of next steps.\n",
              " */\n",
              "function* uploadFilesStep(inputId, outputId) {\n",
              "  const inputElement = document.getElementById(inputId);\n",
              "  inputElement.disabled = false;\n",
              "\n",
              "  const outputElement = document.getElementById(outputId);\n",
              "  outputElement.innerHTML = '';\n",
              "\n",
              "  const pickedPromise = new Promise((resolve) => {\n",
              "    inputElement.addEventListener('change', (e) => {\n",
              "      resolve(e.target.files);\n",
              "    });\n",
              "  });\n",
              "\n",
              "  const cancel = document.createElement('button');\n",
              "  inputElement.parentElement.appendChild(cancel);\n",
              "  cancel.textContent = 'Cancel upload';\n",
              "  const cancelPromise = new Promise((resolve) => {\n",
              "    cancel.onclick = () => {\n",
              "      resolve(null);\n",
              "    };\n",
              "  });\n",
              "\n",
              "  // Wait for the user to pick the files.\n",
              "  const files = yield {\n",
              "    promise: Promise.race([pickedPromise, cancelPromise]),\n",
              "    response: {\n",
              "      action: 'starting',\n",
              "    }\n",
              "  };\n",
              "\n",
              "  cancel.remove();\n",
              "\n",
              "  // Disable the input element since further picks are not allowed.\n",
              "  inputElement.disabled = true;\n",
              "\n",
              "  if (!files) {\n",
              "    return {\n",
              "      response: {\n",
              "        action: 'complete',\n",
              "      }\n",
              "    };\n",
              "  }\n",
              "\n",
              "  for (const file of files) {\n",
              "    const li = document.createElement('li');\n",
              "    li.append(span(file.name, {fontWeight: 'bold'}));\n",
              "    li.append(span(\n",
              "        `(${file.type || 'n/a'}) - ${file.size} bytes, ` +\n",
              "        `last modified: ${\n",
              "            file.lastModifiedDate ? file.lastModifiedDate.toLocaleDateString() :\n",
              "                                    'n/a'} - `));\n",
              "    const percent = span('0% done');\n",
              "    li.appendChild(percent);\n",
              "\n",
              "    outputElement.appendChild(li);\n",
              "\n",
              "    const fileDataPromise = new Promise((resolve) => {\n",
              "      const reader = new FileReader();\n",
              "      reader.onload = (e) => {\n",
              "        resolve(e.target.result);\n",
              "      };\n",
              "      reader.readAsArrayBuffer(file);\n",
              "    });\n",
              "    // Wait for the data to be ready.\n",
              "    let fileData = yield {\n",
              "      promise: fileDataPromise,\n",
              "      response: {\n",
              "        action: 'continue',\n",
              "      }\n",
              "    };\n",
              "\n",
              "    // Use a chunked sending to avoid message size limits. See b/62115660.\n",
              "    let position = 0;\n",
              "    do {\n",
              "      const length = Math.min(fileData.byteLength - position, MAX_PAYLOAD_SIZE);\n",
              "      const chunk = new Uint8Array(fileData, position, length);\n",
              "      position += length;\n",
              "\n",
              "      const base64 = btoa(String.fromCharCode.apply(null, chunk));\n",
              "      yield {\n",
              "        response: {\n",
              "          action: 'append',\n",
              "          file: file.name,\n",
              "          data: base64,\n",
              "        },\n",
              "      };\n",
              "\n",
              "      let percentDone = fileData.byteLength === 0 ?\n",
              "          100 :\n",
              "          Math.round((position / fileData.byteLength) * 100);\n",
              "      percent.textContent = `${percentDone}% done`;\n",
              "\n",
              "    } while (position < fileData.byteLength);\n",
              "  }\n",
              "\n",
              "  // All done.\n",
              "  yield {\n",
              "    response: {\n",
              "      action: 'complete',\n",
              "    }\n",
              "  };\n",
              "}\n",
              "\n",
              "scope.google = scope.google || {};\n",
              "scope.google.colab = scope.google.colab || {};\n",
              "scope.google.colab._files = {\n",
              "  _uploadFiles,\n",
              "  _uploadFilesContinue,\n",
              "};\n",
              "})(self);\n",
              "</script> "
            ]
          },
          "metadata": {}
        },
        {
          "output_type": "stream",
          "name": "stdout",
          "text": [
            "Saving lenta_news.csv to lenta_news.csv\n"
          ]
        }
      ]
    },
    {
      "cell_type": "markdown",
      "id": "0160061d-615a-4ae2-ac2f-bcb9aa34da56",
      "metadata": {
        "id": "0160061d-615a-4ae2-ac2f-bcb9aa34da56"
      },
      "source": [
        "## Загрузка датасетов"
      ]
    },
    {
      "cell_type": "markdown",
      "id": "f40eaed7-caaf-42be-b591-67b5f521ace5",
      "metadata": {
        "id": "f40eaed7-caaf-42be-b591-67b5f521ace5"
      },
      "source": [
        "###  Загрузка датасета новостей lenta.ru"
      ]
    },
    {
      "cell_type": "code",
      "execution_count": 6,
      "id": "ec0b04ee-33cd-4eaa-97c5-2e1f7a701080",
      "metadata": {
        "ExecuteTime": {
          "end_time": "2024-04-15T13:44:30.014432Z",
          "start_time": "2024-04-15T13:44:29.836317Z"
        },
        "id": "ec0b04ee-33cd-4eaa-97c5-2e1f7a701080"
      },
      "outputs": [],
      "source": [
        "# Загрузим датасет с новостями с lenta.ru\n",
        "news = pd.read_csv('lenta_news.csv', engine='python', on_bad_lines='skip')"
      ]
    },
    {
      "cell_type": "code",
      "execution_count": null,
      "id": "711ed40b-aed3-416c-8c6a-bea46e0ecf73",
      "metadata": {
        "ExecuteTime": {
          "end_time": "2024-04-15T13:44:32.315051Z",
          "start_time": "2024-04-15T13:44:32.285541Z"
        },
        "id": "711ed40b-aed3-416c-8c6a-bea46e0ecf73",
        "outputId": "a824e2f3-01a7-4c69-c62d-51d090806b2e"
      },
      "outputs": [
        {
          "data": {
            "text/html": [
              "<div>\n",
              "<style scoped>\n",
              "    .dataframe tbody tr th:only-of-type {\n",
              "        vertical-align: middle;\n",
              "    }\n",
              "\n",
              "    .dataframe tbody tr th {\n",
              "        vertical-align: top;\n",
              "    }\n",
              "\n",
              "    .dataframe thead th {\n",
              "        text-align: right;\n",
              "    }\n",
              "</style>\n",
              "<table border=\"1\" class=\"dataframe\">\n",
              "  <thead>\n",
              "    <tr style=\"text-align: right;\">\n",
              "      <th></th>\n",
              "      <th>url</th>\n",
              "      <th>title</th>\n",
              "      <th>text</th>\n",
              "      <th>topic</th>\n",
              "      <th>tags</th>\n",
              "    </tr>\n",
              "  </thead>\n",
              "  <tbody>\n",
              "    <tr>\n",
              "      <th>0</th>\n",
              "      <td>https://lenta.ru/news/1914/09/16/hungarnn/</td>\n",
              "      <td>1914. Русские войска вступили в пределы Венгрии</td>\n",
              "      <td>Бои у Сопоцкина и Друскеник закончились отступ...</td>\n",
              "      <td>Библиотека</td>\n",
              "      <td>Первая мировая</td>\n",
              "    </tr>\n",
              "    <tr>\n",
              "      <th>1</th>\n",
              "      <td>https://lenta.ru/news/1914/09/16/lermontov/</td>\n",
              "      <td>1914. Празднование столетия М.Ю. Лермонтова от...</td>\n",
              "      <td>Министерство народного просвещения, в виду про...</td>\n",
              "      <td>Библиотека</td>\n",
              "      <td>Первая мировая</td>\n",
              "    </tr>\n",
              "    <tr>\n",
              "      <th>2</th>\n",
              "      <td>https://lenta.ru/news/1914/09/17/nesteroff/</td>\n",
              "      <td>1914. Das ist Nesteroff!</td>\n",
              "      <td>Штабс-капитан П. Н. Нестеров на днях, увидев в...</td>\n",
              "      <td>Библиотека</td>\n",
              "      <td>Первая мировая</td>\n",
              "    </tr>\n",
              "    <tr>\n",
              "      <th>3</th>\n",
              "      <td>https://lenta.ru/news/1914/09/17/bulldogn/</td>\n",
              "      <td>1914. Бульдог-гонец под Льежем</td>\n",
              "      <td>Фотограф-корреспондент Daily Mirror рассказыва...</td>\n",
              "      <td>Библиотека</td>\n",
              "      <td>Первая мировая</td>\n",
              "    </tr>\n",
              "    <tr>\n",
              "      <th>4</th>\n",
              "      <td>https://lenta.ru/news/1914/09/18/zver/</td>\n",
              "      <td>1914. Под Люблином пойман швабский зверь</td>\n",
              "      <td>Лица, приехавшие в Варшаву из Люблина, передаю...</td>\n",
              "      <td>Библиотека</td>\n",
              "      <td>Первая мировая</td>\n",
              "    </tr>\n",
              "    <tr>\n",
              "      <th>...</th>\n",
              "      <td>...</td>\n",
              "      <td>...</td>\n",
              "      <td>...</td>\n",
              "      <td>...</td>\n",
              "      <td>...</td>\n",
              "    </tr>\n",
              "    <tr>\n",
              "      <th>9995</th>\n",
              "      <td>https://lenta.ru/news/2000/07/10/kpp/</td>\n",
              "      <td>На границе Дагестана и Чечни будут стрелять в ...</td>\n",
              "      <td>Глава МВД Дагестана приказал нарядам милиции н...</td>\n",
              "      <td>Россия</td>\n",
              "      <td>Все</td>\n",
              "    </tr>\n",
              "    <tr>\n",
              "      <th>9996</th>\n",
              "      <td>https://lenta.ru/news/2000/07/10/gossovet/</td>\n",
              "      <td>Путин пересадит губернаторов в Госсовет</td>\n",
              "      <td>Представители Кремля ведут активный диалог с г...</td>\n",
              "      <td>Россия</td>\n",
              "      <td>Все</td>\n",
              "    </tr>\n",
              "    <tr>\n",
              "      <th>9997</th>\n",
              "      <td>https://lenta.ru/news/2000/07/10/clowns/</td>\n",
              "      <td>В Москву съедутся клоуны со всего мира</td>\n",
              "      <td>В Москве 20 июля открывается фестиваль \"Планет...</td>\n",
              "      <td>Россия</td>\n",
              "      <td>Все</td>\n",
              "    </tr>\n",
              "    <tr>\n",
              "      <th>9998</th>\n",
              "      <td>https://lenta.ru/news/2000/07/10/women/</td>\n",
              "      <td>Старшая Уильямс выигрывает чемпионский титул</td>\n",
              "      <td>Чисто американским получился финал Уимблдонск...</td>\n",
              "      <td>Спорт</td>\n",
              "      <td>Все</td>\n",
              "    </tr>\n",
              "    <tr>\n",
              "      <th>9999</th>\n",
              "      <td>https://lenta.ru/news/2000/07/10/zenit/</td>\n",
              "      <td>\"Зенит\" выходит в третий раунд Кубка Интертото</td>\n",
              "      <td>Первым российским клубом, стартовавшим в сезон...</td>\n",
              "      <td>Спорт</td>\n",
              "      <td>Все</td>\n",
              "    </tr>\n",
              "  </tbody>\n",
              "</table>\n",
              "<p>10000 rows × 5 columns</p>\n",
              "</div>"
            ],
            "text/plain": [
              "                                              url  \\\n",
              "0      https://lenta.ru/news/1914/09/16/hungarnn/   \n",
              "1     https://lenta.ru/news/1914/09/16/lermontov/   \n",
              "2     https://lenta.ru/news/1914/09/17/nesteroff/   \n",
              "3      https://lenta.ru/news/1914/09/17/bulldogn/   \n",
              "4          https://lenta.ru/news/1914/09/18/zver/   \n",
              "...                                           ...   \n",
              "9995        https://lenta.ru/news/2000/07/10/kpp/   \n",
              "9996   https://lenta.ru/news/2000/07/10/gossovet/   \n",
              "9997     https://lenta.ru/news/2000/07/10/clowns/   \n",
              "9998      https://lenta.ru/news/2000/07/10/women/   \n",
              "9999      https://lenta.ru/news/2000/07/10/zenit/   \n",
              "\n",
              "                                                  title  \\\n",
              "0     1914. Русские войска вступили в пределы Венгрии     \n",
              "1     1914. Празднование столетия М.Ю. Лермонтова от...   \n",
              "2                              1914. Das ist Nesteroff!   \n",
              "3                       1914. Бульдог-гонец под Льежем    \n",
              "4              1914. Под Люблином пойман швабский зверь   \n",
              "...                                                 ...   \n",
              "9995  На границе Дагестана и Чечни будут стрелять в ...   \n",
              "9996            Путин пересадит губернаторов в Госсовет   \n",
              "9997             В Москву съедутся клоуны со всего мира   \n",
              "9998       Старшая Уильямс выигрывает чемпионский титул   \n",
              "9999     \"Зенит\" выходит в третий раунд Кубка Интертото   \n",
              "\n",
              "                                                   text       topic  \\\n",
              "0     Бои у Сопоцкина и Друскеник закончились отступ...  Библиотека   \n",
              "1     Министерство народного просвещения, в виду про...  Библиотека   \n",
              "2     Штабс-капитан П. Н. Нестеров на днях, увидев в...  Библиотека   \n",
              "3     Фотограф-корреспондент Daily Mirror рассказыва...  Библиотека   \n",
              "4     Лица, приехавшие в Варшаву из Люблина, передаю...  Библиотека   \n",
              "...                                                 ...         ...   \n",
              "9995  Глава МВД Дагестана приказал нарядам милиции н...      Россия   \n",
              "9996  Представители Кремля ведут активный диалог с г...      Россия   \n",
              "9997  В Москве 20 июля открывается фестиваль \"Планет...      Россия   \n",
              "9998   Чисто американским получился финал Уимблдонск...       Спорт   \n",
              "9999  Первым российским клубом, стартовавшим в сезон...       Спорт   \n",
              "\n",
              "                tags  \n",
              "0     Первая мировая  \n",
              "1     Первая мировая  \n",
              "2     Первая мировая  \n",
              "3     Первая мировая  \n",
              "4     Первая мировая  \n",
              "...              ...  \n",
              "9995             Все  \n",
              "9996             Все  \n",
              "9997             Все  \n",
              "9998             Все  \n",
              "9999             Все  \n",
              "\n",
              "[10000 rows x 5 columns]"
            ]
          },
          "execution_count": 4,
          "metadata": {},
          "output_type": "execute_result"
        }
      ],
      "source": [
        "news"
      ]
    },
    {
      "cell_type": "markdown",
      "id": "9d20ecee-a191-4dda-823a-934bae05a062",
      "metadata": {
        "id": "9d20ecee-a191-4dda-823a-934bae05a062"
      },
      "source": [
        "### Загрузка тонального словаря"
      ]
    },
    {
      "cell_type": "code",
      "execution_count": null,
      "id": "39e8481c-df5f-4e92-b74f-64037b1efc82",
      "metadata": {
        "ExecuteTime": {
          "end_time": "2024-04-15T13:44:40.522683Z",
          "start_time": "2024-04-15T13:44:40.511684Z"
        },
        "id": "39e8481c-df5f-4e92-b74f-64037b1efc82"
      },
      "outputs": [],
      "source": [
        "# Датасет тонального словаря\n",
        "url = 'https://raw.githubusercontent.com/dkulagin/kartaslov/master/dataset/kartaslovsent/kartaslovsent.csv'\n",
        "path = './csv/kartaslovsent.csv'\n",
        "if not os.path.isfile(\"./csv/kartaslovsent.csv\"):\n",
        "    # Загружаем данные\n",
        "    wget.download(url, out=path)"
      ]
    },
    {
      "cell_type": "code",
      "execution_count": null,
      "id": "0cbbb798-4d45-4ddd-98de-588df54040b5",
      "metadata": {
        "ExecuteTime": {
          "end_time": "2024-04-15T13:54:55.668822Z",
          "start_time": "2024-04-15T13:54:55.617302Z"
        },
        "id": "0cbbb798-4d45-4ddd-98de-588df54040b5"
      },
      "outputs": [],
      "source": [
        "df_tone_dictionary = pd.read_csv('./csv/kartaslovsent.csv', sep=';', on_bad_lines='skip')"
      ]
    },
    {
      "cell_type": "code",
      "execution_count": null,
      "id": "a3f8871b-c8f2-4a5a-8383-b2bbe9837775",
      "metadata": {
        "ExecuteTime": {
          "end_time": "2024-04-15T13:54:57.124806Z",
          "start_time": "2024-04-15T13:54:57.100802Z"
        },
        "id": "a3f8871b-c8f2-4a5a-8383-b2bbe9837775",
        "outputId": "037f9a1c-2ce2-4d5a-85d0-27e6fa9d7c98"
      },
      "outputs": [
        {
          "data": {
            "text/html": [
              "<div>\n",
              "<style scoped>\n",
              "    .dataframe tbody tr th:only-of-type {\n",
              "        vertical-align: middle;\n",
              "    }\n",
              "\n",
              "    .dataframe tbody tr th {\n",
              "        vertical-align: top;\n",
              "    }\n",
              "\n",
              "    .dataframe thead th {\n",
              "        text-align: right;\n",
              "    }\n",
              "</style>\n",
              "<table border=\"1\" class=\"dataframe\">\n",
              "  <thead>\n",
              "    <tr style=\"text-align: right;\">\n",
              "      <th></th>\n",
              "      <th>term</th>\n",
              "      <th>tag</th>\n",
              "      <th>value</th>\n",
              "      <th>pstv</th>\n",
              "      <th>ngtv</th>\n",
              "      <th>neut</th>\n",
              "      <th>dunno</th>\n",
              "      <th>pstvNgtvDisagreementRatio</th>\n",
              "    </tr>\n",
              "  </thead>\n",
              "  <tbody>\n",
              "    <tr>\n",
              "      <th>0</th>\n",
              "      <td>абажур</td>\n",
              "      <td>NEUT</td>\n",
              "      <td>0.08</td>\n",
              "      <td>0.185</td>\n",
              "      <td>0.037</td>\n",
              "      <td>0.580</td>\n",
              "      <td>0.198</td>\n",
              "      <td>0.00</td>\n",
              "    </tr>\n",
              "    <tr>\n",
              "      <th>1</th>\n",
              "      <td>аббатство</td>\n",
              "      <td>NEUT</td>\n",
              "      <td>0.10</td>\n",
              "      <td>0.192</td>\n",
              "      <td>0.038</td>\n",
              "      <td>0.578</td>\n",
              "      <td>0.192</td>\n",
              "      <td>0.00</td>\n",
              "    </tr>\n",
              "    <tr>\n",
              "      <th>2</th>\n",
              "      <td>аббревиатура</td>\n",
              "      <td>NEUT</td>\n",
              "      <td>0.08</td>\n",
              "      <td>0.196</td>\n",
              "      <td>0.000</td>\n",
              "      <td>0.630</td>\n",
              "      <td>0.174</td>\n",
              "      <td>0.00</td>\n",
              "    </tr>\n",
              "    <tr>\n",
              "      <th>3</th>\n",
              "      <td>абзац</td>\n",
              "      <td>NEUT</td>\n",
              "      <td>0.00</td>\n",
              "      <td>0.137</td>\n",
              "      <td>0.000</td>\n",
              "      <td>0.706</td>\n",
              "      <td>0.157</td>\n",
              "      <td>0.00</td>\n",
              "    </tr>\n",
              "    <tr>\n",
              "      <th>4</th>\n",
              "      <td>абиссинец</td>\n",
              "      <td>NEUT</td>\n",
              "      <td>0.28</td>\n",
              "      <td>0.151</td>\n",
              "      <td>0.113</td>\n",
              "      <td>0.245</td>\n",
              "      <td>0.491</td>\n",
              "      <td>0.19</td>\n",
              "    </tr>\n",
              "    <tr>\n",
              "      <th>...</th>\n",
              "      <td>...</td>\n",
              "      <td>...</td>\n",
              "      <td>...</td>\n",
              "      <td>...</td>\n",
              "      <td>...</td>\n",
              "      <td>...</td>\n",
              "      <td>...</td>\n",
              "      <td>...</td>\n",
              "    </tr>\n",
              "    <tr>\n",
              "      <th>46122</th>\n",
              "      <td>ёмкость</td>\n",
              "      <td>NEUT</td>\n",
              "      <td>0.00</td>\n",
              "      <td>0.167</td>\n",
              "      <td>0.000</td>\n",
              "      <td>0.690</td>\n",
              "      <td>0.143</td>\n",
              "      <td>0.00</td>\n",
              "    </tr>\n",
              "    <tr>\n",
              "      <th>46123</th>\n",
              "      <td>ёрзать</td>\n",
              "      <td>NGTV</td>\n",
              "      <td>-0.54</td>\n",
              "      <td>0.050</td>\n",
              "      <td>0.446</td>\n",
              "      <td>0.397</td>\n",
              "      <td>0.107</td>\n",
              "      <td>0.00</td>\n",
              "    </tr>\n",
              "    <tr>\n",
              "      <th>46124</th>\n",
              "      <td>ёрничать</td>\n",
              "      <td>NGTV</td>\n",
              "      <td>-0.79</td>\n",
              "      <td>0.078</td>\n",
              "      <td>0.529</td>\n",
              "      <td>0.236</td>\n",
              "      <td>0.157</td>\n",
              "      <td>0.00</td>\n",
              "    </tr>\n",
              "    <tr>\n",
              "      <th>46125</th>\n",
              "      <td>ёрш</td>\n",
              "      <td>NEUT</td>\n",
              "      <td>0.16</td>\n",
              "      <td>0.224</td>\n",
              "      <td>0.072</td>\n",
              "      <td>0.576</td>\n",
              "      <td>0.128</td>\n",
              "      <td>0.00</td>\n",
              "    </tr>\n",
              "    <tr>\n",
              "      <th>46126</th>\n",
              "      <td>ёршик</td>\n",
              "      <td>NEUT</td>\n",
              "      <td>0.00</td>\n",
              "      <td>0.152</td>\n",
              "      <td>0.043</td>\n",
              "      <td>0.718</td>\n",
              "      <td>0.087</td>\n",
              "      <td>0.00</td>\n",
              "    </tr>\n",
              "  </tbody>\n",
              "</table>\n",
              "<p>46127 rows × 8 columns</p>\n",
              "</div>"
            ],
            "text/plain": [
              "               term   tag  value   pstv   ngtv   neut  dunno  \\\n",
              "0            абажур  NEUT   0.08  0.185  0.037  0.580  0.198   \n",
              "1         аббатство  NEUT   0.10  0.192  0.038  0.578  0.192   \n",
              "2      аббревиатура  NEUT   0.08  0.196  0.000  0.630  0.174   \n",
              "3             абзац  NEUT   0.00  0.137  0.000  0.706  0.157   \n",
              "4         абиссинец  NEUT   0.28  0.151  0.113  0.245  0.491   \n",
              "...             ...   ...    ...    ...    ...    ...    ...   \n",
              "46122       ёмкость  NEUT   0.00  0.167  0.000  0.690  0.143   \n",
              "46123        ёрзать  NGTV  -0.54  0.050  0.446  0.397  0.107   \n",
              "46124      ёрничать  NGTV  -0.79  0.078  0.529  0.236  0.157   \n",
              "46125           ёрш  NEUT   0.16  0.224  0.072  0.576  0.128   \n",
              "46126         ёршик  NEUT   0.00  0.152  0.043  0.718  0.087   \n",
              "\n",
              "       pstvNgtvDisagreementRatio  \n",
              "0                           0.00  \n",
              "1                           0.00  \n",
              "2                           0.00  \n",
              "3                           0.00  \n",
              "4                           0.19  \n",
              "...                          ...  \n",
              "46122                       0.00  \n",
              "46123                       0.00  \n",
              "46124                       0.00  \n",
              "46125                       0.00  \n",
              "46126                       0.00  \n",
              "\n",
              "[46127 rows x 8 columns]"
            ]
          },
          "execution_count": 7,
          "metadata": {},
          "output_type": "execute_result"
        }
      ],
      "source": [
        "df_tone_dictionary"
      ]
    },
    {
      "cell_type": "markdown",
      "id": "05b65ed0-1f36-4ae2-a308-ce7d9e5ddc93",
      "metadata": {
        "id": "05b65ed0-1f36-4ae2-a308-ce7d9e5ddc93"
      },
      "source": [
        "## Присвоение метки настроения заголовкам новостей"
      ]
    },
    {
      "cell_type": "markdown",
      "id": "f236346e-4b34-4c9b-9c0b-3b5527c0e77f",
      "metadata": {
        "id": "f236346e-4b34-4c9b-9c0b-3b5527c0e77f"
      },
      "source": [
        "### Перемешаем и разделим датафрейм на две части (1-разметка вручную, 2-разметка на основе правил)"
      ]
    },
    {
      "cell_type": "code",
      "execution_count": null,
      "id": "e9300e38-2903-45a6-a0b7-4305fc725f41",
      "metadata": {
        "ExecuteTime": {
          "end_time": "2024-04-15T13:55:00.230305Z",
          "start_time": "2024-04-15T13:55:00.211396Z"
        },
        "id": "e9300e38-2903-45a6-a0b7-4305fc725f41"
      },
      "outputs": [],
      "source": [
        "# Перемешаем и разделим датафрем на 2 части\n",
        "title_news_1, title_news_2 = train_test_split(news['title'], train_size=5, random_state=42)"
      ]
    },
    {
      "cell_type": "code",
      "execution_count": null,
      "id": "075b0620-7aa6-496e-ab1b-53b215bafa44",
      "metadata": {
        "ExecuteTime": {
          "end_time": "2024-04-15T13:55:01.751979Z",
          "start_time": "2024-04-15T13:55:01.734980Z"
        },
        "id": "075b0620-7aa6-496e-ab1b-53b215bafa44"
      },
      "outputs": [],
      "source": [
        "# Преобразуем полученые датасеты в датафреймы Pandas\n",
        "df_title_news_1 = pd.DataFrame(title_news_1)\n",
        "df_title_news_2 = pd.DataFrame(title_news_2)"
      ]
    },
    {
      "cell_type": "code",
      "execution_count": null,
      "id": "5e897675-9888-4cd1-8e3c-5db5f866bea5",
      "metadata": {
        "ExecuteTime": {
          "end_time": "2024-04-15T13:55:02.962475Z",
          "start_time": "2024-04-15T13:55:02.951470Z"
        },
        "id": "5e897675-9888-4cd1-8e3c-5db5f866bea5",
        "outputId": "56ec4fa6-69ef-4a88-9eda-33157cbd1cc5"
      },
      "outputs": [
        {
          "data": {
            "text/html": [
              "<div>\n",
              "<style scoped>\n",
              "    .dataframe tbody tr th:only-of-type {\n",
              "        vertical-align: middle;\n",
              "    }\n",
              "\n",
              "    .dataframe tbody tr th {\n",
              "        vertical-align: top;\n",
              "    }\n",
              "\n",
              "    .dataframe thead th {\n",
              "        text-align: right;\n",
              "    }\n",
              "</style>\n",
              "<table border=\"1\" class=\"dataframe\">\n",
              "  <thead>\n",
              "    <tr style=\"text-align: right;\">\n",
              "      <th></th>\n",
              "      <th>title</th>\n",
              "    </tr>\n",
              "  </thead>\n",
              "  <tbody>\n",
              "    <tr>\n",
              "      <th>5734</th>\n",
              "      <td>Ястржембский называет имя арестованного за взр...</td>\n",
              "    </tr>\n",
              "    <tr>\n",
              "      <th>5191</th>\n",
              "      <td>Чемпионат Италии: \"Ювентус\" ушел в отрыв</td>\n",
              "    </tr>\n",
              "    <tr>\n",
              "      <th>5390</th>\n",
              "      <td>Из Чернокозово отпущены первые амнистированные...</td>\n",
              "    </tr>\n",
              "    <tr>\n",
              "      <th>860</th>\n",
              "      <td>Парламент Украины затребовал у Конгресса США п...</td>\n",
              "    </tr>\n",
              "    <tr>\n",
              "      <th>7270</th>\n",
              "      <td>Пилот Формулы-1 уцелел в авиакатастрофе</td>\n",
              "    </tr>\n",
              "  </tbody>\n",
              "</table>\n",
              "</div>"
            ],
            "text/plain": [
              "                                                  title\n",
              "5734  Ястржембский называет имя арестованного за взр...\n",
              "5191           Чемпионат Италии: \"Ювентус\" ушел в отрыв\n",
              "5390  Из Чернокозово отпущены первые амнистированные...\n",
              "860   Парламент Украины затребовал у Конгресса США п...\n",
              "7270            Пилот Формулы-1 уцелел в авиакатастрофе"
            ]
          },
          "execution_count": 10,
          "metadata": {},
          "output_type": "execute_result"
        }
      ],
      "source": [
        "df_title_news_1.head()"
      ]
    },
    {
      "cell_type": "code",
      "execution_count": null,
      "id": "b07a9a65-b121-4b79-91c4-383c24276b11",
      "metadata": {
        "ExecuteTime": {
          "end_time": "2024-04-15T13:55:04.165476Z",
          "start_time": "2024-04-15T13:55:04.158714Z"
        },
        "id": "b07a9a65-b121-4b79-91c4-383c24276b11",
        "outputId": "24b0a40b-23ac-494c-d69f-b0ace8444dad"
      },
      "outputs": [
        {
          "data": {
            "text/html": [
              "<div>\n",
              "<style scoped>\n",
              "    .dataframe tbody tr th:only-of-type {\n",
              "        vertical-align: middle;\n",
              "    }\n",
              "\n",
              "    .dataframe tbody tr th {\n",
              "        vertical-align: top;\n",
              "    }\n",
              "\n",
              "    .dataframe thead th {\n",
              "        text-align: right;\n",
              "    }\n",
              "</style>\n",
              "<table border=\"1\" class=\"dataframe\">\n",
              "  <thead>\n",
              "    <tr style=\"text-align: right;\">\n",
              "      <th></th>\n",
              "      <th>title</th>\n",
              "    </tr>\n",
              "  </thead>\n",
              "  <tbody>\n",
              "    <tr>\n",
              "      <th>6252</th>\n",
              "      <td>Чтобы не платить налог, интернет-изданиям нужн...</td>\n",
              "    </tr>\n",
              "    <tr>\n",
              "      <th>4684</th>\n",
              "      <td>Кубинского дипломата выставили из США</td>\n",
              "    </tr>\n",
              "    <tr>\n",
              "      <th>1731</th>\n",
              "      <td>Правительство РФ: третье тысячеление наступит ...</td>\n",
              "    </tr>\n",
              "    <tr>\n",
              "      <th>4742</th>\n",
              "      <td>Взрывчатку в Сибирь отправили по почте</td>\n",
              "    </tr>\n",
              "    <tr>\n",
              "      <th>4521</th>\n",
              "      <td>В Дагестане совершено покушение на генерала по...</td>\n",
              "    </tr>\n",
              "  </tbody>\n",
              "</table>\n",
              "</div>"
            ],
            "text/plain": [
              "                                                  title\n",
              "6252  Чтобы не платить налог, интернет-изданиям нужн...\n",
              "4684              Кубинского дипломата выставили из США\n",
              "1731  Правительство РФ: третье тысячеление наступит ...\n",
              "4742             Взрывчатку в Сибирь отправили по почте\n",
              "4521  В Дагестане совершено покушение на генерала по..."
            ]
          },
          "execution_count": 11,
          "metadata": {},
          "output_type": "execute_result"
        }
      ],
      "source": [
        "df_title_news_2.head()"
      ]
    },
    {
      "cell_type": "markdown",
      "id": "9d81a3d3-7212-40ca-9143-88ec4804bc7a",
      "metadata": {
        "id": "9d81a3d3-7212-40ca-9143-88ec4804bc7a"
      },
      "source": [
        "### Определение функций"
      ]
    },
    {
      "cell_type": "code",
      "execution_count": null,
      "id": "e67f3444-722a-4917-ad26-60c826d5d035",
      "metadata": {
        "ExecuteTime": {
          "end_time": "2024-04-15T13:55:07.596701Z",
          "start_time": "2024-04-15T13:55:07.591704Z"
        },
        "id": "e67f3444-722a-4917-ad26-60c826d5d035"
      },
      "outputs": [],
      "source": [
        "# Функция для присвоения метки настроения на основе наличия положительных или отрицательных слов\n",
        "def get_sentiment(text, df_td=df_tone_dictionary):\n",
        "    '''\n",
        "    Функция вычисляет метрику настроения.\n",
        "\n",
        "    :param text: текст который будем анализировать,\n",
        "    :param df_td: тональный словарь,\n",
        "    :return: возвращает оценку тональности: -0.35 (неготив) <= нейтрально >= (0.55) позитив\n",
        "    '''\n",
        "    # Токенизация текста на отдельные слова\n",
        "    words = nltk.word_tokenize(text.lower())\n",
        "    sum_value = 0  # Сумма всех зачений весов найденных слов\n",
        "\n",
        "    for word in words:\n",
        "        if len(df_td[df_td.term == word]):\n",
        "            df_filtered = df_td[df_td['term'] == word]\n",
        "            value = df_filtered['value'].iloc[0]\n",
        "            sum_value += value\n",
        "\n",
        "    return sum_value\n"
      ]
    },
    {
      "cell_type": "code",
      "execution_count": null,
      "id": "6344c0cd-e48e-43a4-9242-cdad8895e3e0",
      "metadata": {
        "ExecuteTime": {
          "end_time": "2024-04-15T14:16:25.400466Z",
          "start_time": "2024-04-15T14:16:25.396467Z"
        },
        "id": "6344c0cd-e48e-43a4-9242-cdad8895e3e0"
      },
      "outputs": [],
      "source": [
        "# Определение функции для присвоения метки настроения на основе оценки полярности настроения\n",
        "def get_sentiment_label(score):\n",
        "    '''\n",
        "    Функция выводит метку настроения (негативный, позитивный или нейтральный).\n",
        "\n",
        "    :param score: уровень метки настроения от -1 до 1,\n",
        "    :return: возвращает оценку тональности.\n",
        "    '''\n",
        "    if score < -0.35:\n",
        "        return 'negative'\n",
        "    elif score >= 0.55:\n",
        "        return 'positive'\n",
        "    else:\n",
        "        return 'neutral'"
      ]
    },
    {
      "cell_type": "markdown",
      "id": "0bc1a3f6-2453-42f5-b396-ea46e81d6c64",
      "metadata": {
        "id": "0bc1a3f6-2453-42f5-b396-ea46e81d6c64"
      },
      "source": [
        "#### Проверка функций"
      ]
    },
    {
      "cell_type": "code",
      "execution_count": null,
      "id": "5d8785cd-e559-405c-a344-94d731dfbe3a",
      "metadata": {
        "ExecuteTime": {
          "end_time": "2024-04-15T14:16:30.910490Z",
          "start_time": "2024-04-15T14:16:30.885780Z"
        },
        "id": "5d8785cd-e559-405c-a344-94d731dfbe3a",
        "outputId": "d6489251-d9b5-4950-d1ed-6a9d4448a3bc"
      },
      "outputs": [
        {
          "name": "stdout",
          "output_type": "stream",
          "text": [
            "CPU times: total: 0 ns\n",
            "Wall time: 21 ms\n"
          ]
        },
        {
          "data": {
            "text/plain": [
              "0.55"
            ]
          },
          "execution_count": 14,
          "metadata": {},
          "output_type": "execute_result"
        }
      ],
      "source": [
        "%%time\n",
        "get_sentiment('Превосходно, что Аист прелетел')"
      ]
    },
    {
      "cell_type": "code",
      "execution_count": null,
      "id": "dd826400-e1f8-4328-a60c-6d8f411a6d88",
      "metadata": {
        "ExecuteTime": {
          "end_time": "2024-04-15T13:45:25.271831Z",
          "start_time": "2024-04-15T13:45:25.247830Z"
        },
        "id": "dd826400-e1f8-4328-a60c-6d8f411a6d88",
        "outputId": "667f6a20-2e79-4d2f-f76c-82cfb3800c16"
      },
      "outputs": [
        {
          "data": {
            "text/plain": [
              "-0.68"
            ]
          },
          "execution_count": 15,
          "metadata": {},
          "output_type": "execute_result"
        }
      ],
      "source": [
        "get_sentiment('Удар молнии')"
      ]
    },
    {
      "cell_type": "code",
      "execution_count": null,
      "id": "23d0defa-5dac-4e12-94ee-a971bd799fd6",
      "metadata": {
        "id": "23d0defa-5dac-4e12-94ee-a971bd799fd6",
        "outputId": "9155a6c7-67d0-48ae-f5fb-588e35571884"
      },
      "outputs": [
        {
          "data": {
            "text/plain": [
              "0"
            ]
          },
          "execution_count": 16,
          "metadata": {},
          "output_type": "execute_result"
        }
      ],
      "source": [
        "get_sentiment('Всё в норме')"
      ]
    },
    {
      "cell_type": "code",
      "execution_count": null,
      "id": "ccd4f04c-f352-4fae-b94d-55ba2c16ece7",
      "metadata": {
        "ExecuteTime": {
          "end_time": "2024-04-15T13:45:28.554069Z",
          "start_time": "2024-04-15T13:45:28.531563Z"
        },
        "id": "ccd4f04c-f352-4fae-b94d-55ba2c16ece7",
        "outputId": "95a97c03-8774-4328-c861-9a02d4b58817"
      },
      "outputs": [
        {
          "data": {
            "text/plain": [
              "'positive'"
            ]
          },
          "execution_count": 17,
          "metadata": {},
          "output_type": "execute_result"
        }
      ],
      "source": [
        "get_sentiment_label(get_sentiment('Превосходно, что Аист прелетел'))"
      ]
    },
    {
      "cell_type": "code",
      "execution_count": null,
      "id": "3d9e2fdc-a4f7-4a4d-b7f9-32d37e30b62c",
      "metadata": {
        "ExecuteTime": {
          "end_time": "2024-04-15T13:45:29.864945Z",
          "start_time": "2024-04-15T13:45:29.847944Z"
        },
        "id": "3d9e2fdc-a4f7-4a4d-b7f9-32d37e30b62c",
        "outputId": "fc86016a-418a-49c0-84c1-67831034e841"
      },
      "outputs": [
        {
          "data": {
            "text/plain": [
              "'negative'"
            ]
          },
          "execution_count": 18,
          "metadata": {},
          "output_type": "execute_result"
        }
      ],
      "source": [
        "get_sentiment_label(get_sentiment('Удар молнии'))"
      ]
    },
    {
      "cell_type": "code",
      "execution_count": null,
      "id": "d9f7ddf2-bafc-422a-a18c-5969556e675d",
      "metadata": {
        "id": "d9f7ddf2-bafc-422a-a18c-5969556e675d",
        "outputId": "7adc1dee-3b79-41dd-ae7a-c9dbeb71ca48"
      },
      "outputs": [
        {
          "data": {
            "text/plain": [
              "'neutral'"
            ]
          },
          "execution_count": 19,
          "metadata": {},
          "output_type": "execute_result"
        }
      ],
      "source": [
        "get_sentiment_label(get_sentiment('Всё в норме'))"
      ]
    },
    {
      "cell_type": "markdown",
      "id": "faba75ef-0da6-42e1-a249-26c1f6067365",
      "metadata": {
        "id": "faba75ef-0da6-42e1-a249-26c1f6067365"
      },
      "source": [
        "### Присваиваем метки"
      ]
    },
    {
      "cell_type": "markdown",
      "id": "bc982877-0003-40cb-8556-3ee9ddefdb52",
      "metadata": {
        "id": "bc982877-0003-40cb-8556-3ee9ddefdb52"
      },
      "source": [
        "#### Присвоение меток настроения на основе правил"
      ]
    },
    {
      "cell_type": "code",
      "execution_count": null,
      "id": "4a6cf815-d83d-4f0f-845a-7ca5c942aff0",
      "metadata": {
        "id": "4a6cf815-d83d-4f0f-845a-7ca5c942aff0",
        "outputId": "6f6325f5-2503-434e-9df4-34f2cb70c117"
      },
      "outputs": [
        {
          "name": "stdout",
          "output_type": "stream",
          "text": [
            "CPU times: total: 1min 30s\n",
            "Wall time: 2min 13s\n"
          ]
        }
      ],
      "source": [
        "%%time\n",
        "# Применение функции к столбцу 'title' датасета для получения полярности настроения каждого заголовка новости\n",
        "df_title_news_2['sentiment'] = df_title_news_2['title'].apply(get_sentiment)\n",
        "# Применение функции к столбцу 'sentiment' датасета для присвоения меток настроения\n",
        "df_title_news_2['sentiment_label'] = df_title_news_2['sentiment'].apply(get_sentiment_label)"
      ]
    },
    {
      "cell_type": "code",
      "execution_count": null,
      "id": "17a3944b-188e-4c0e-8324-10bf9f41e04d",
      "metadata": {
        "id": "17a3944b-188e-4c0e-8324-10bf9f41e04d",
        "outputId": "b23f069d-51ff-48da-f2b3-5a622139b20c"
      },
      "outputs": [
        {
          "data": {
            "text/html": [
              "<div>\n",
              "<style scoped>\n",
              "    .dataframe tbody tr th:only-of-type {\n",
              "        vertical-align: middle;\n",
              "    }\n",
              "\n",
              "    .dataframe tbody tr th {\n",
              "        vertical-align: top;\n",
              "    }\n",
              "\n",
              "    .dataframe thead th {\n",
              "        text-align: right;\n",
              "    }\n",
              "</style>\n",
              "<table border=\"1\" class=\"dataframe\">\n",
              "  <thead>\n",
              "    <tr style=\"text-align: right;\">\n",
              "      <th></th>\n",
              "      <th>title</th>\n",
              "      <th>sentiment</th>\n",
              "      <th>sentiment_label</th>\n",
              "    </tr>\n",
              "  </thead>\n",
              "  <tbody>\n",
              "    <tr>\n",
              "      <th>6252</th>\n",
              "      <td>Чтобы не платить налог, интернет-изданиям нужн...</td>\n",
              "      <td>-0.26</td>\n",
              "      <td>neutral</td>\n",
              "    </tr>\n",
              "    <tr>\n",
              "      <th>4684</th>\n",
              "      <td>Кубинского дипломата выставили из США</td>\n",
              "      <td>0.00</td>\n",
              "      <td>neutral</td>\n",
              "    </tr>\n",
              "    <tr>\n",
              "      <th>1731</th>\n",
              "      <td>Правительство РФ: третье тысячеление наступит ...</td>\n",
              "      <td>-0.14</td>\n",
              "      <td>neutral</td>\n",
              "    </tr>\n",
              "    <tr>\n",
              "      <th>4742</th>\n",
              "      <td>Взрывчатку в Сибирь отправили по почте</td>\n",
              "      <td>0.00</td>\n",
              "      <td>neutral</td>\n",
              "    </tr>\n",
              "    <tr>\n",
              "      <th>4521</th>\n",
              "      <td>В Дагестане совершено покушение на генерала по...</td>\n",
              "      <td>-1.00</td>\n",
              "      <td>negative</td>\n",
              "    </tr>\n",
              "  </tbody>\n",
              "</table>\n",
              "</div>"
            ],
            "text/plain": [
              "                                                  title  sentiment  \\\n",
              "6252  Чтобы не платить налог, интернет-изданиям нужн...      -0.26   \n",
              "4684              Кубинского дипломата выставили из США       0.00   \n",
              "1731  Правительство РФ: третье тысячеление наступит ...      -0.14   \n",
              "4742             Взрывчатку в Сибирь отправили по почте       0.00   \n",
              "4521  В Дагестане совершено покушение на генерала по...      -1.00   \n",
              "\n",
              "     sentiment_label  \n",
              "6252         neutral  \n",
              "4684         neutral  \n",
              "1731         neutral  \n",
              "4742         neutral  \n",
              "4521        negative  "
            ]
          },
          "execution_count": 21,
          "metadata": {},
          "output_type": "execute_result"
        }
      ],
      "source": [
        "df_title_news_2.head()"
      ]
    },
    {
      "cell_type": "code",
      "execution_count": null,
      "id": "53e8dbd6-cc26-44ed-b294-97ccfcdb2a31",
      "metadata": {
        "id": "53e8dbd6-cc26-44ed-b294-97ccfcdb2a31",
        "outputId": "50661263-0153-41a5-a489-30c595aec895"
      },
      "outputs": [
        {
          "data": {
            "text/plain": [
              "(9995, 3)"
            ]
          },
          "execution_count": 22,
          "metadata": {},
          "output_type": "execute_result"
        }
      ],
      "source": [
        "df_title_news_2.shape"
      ]
    },
    {
      "cell_type": "markdown",
      "id": "296d54e1-00ea-43e4-83b6-75bb604cc1fc",
      "metadata": {
        "id": "296d54e1-00ea-43e4-83b6-75bb604cc1fc"
      },
      "source": [
        "#### Присвоение меток настроения в label-studio"
      ]
    },
    {
      "cell_type": "markdown",
      "id": "b16a43ff-c7b6-4a17-ae13-0aedfa25a03f",
      "metadata": {
        "id": "b16a43ff-c7b6-4a17-ae13-0aedfa25a03f"
      },
      "source": [
        "##### Сохраним датафрем в CSV файл"
      ]
    },
    {
      "cell_type": "code",
      "execution_count": null,
      "id": "c1f7dee9-e46b-430b-a0b2-8bc8e48a6863",
      "metadata": {
        "id": "c1f7dee9-e46b-430b-a0b2-8bc8e48a6863"
      },
      "outputs": [],
      "source": [
        "df_title_news_1.to_csv('./csv/manual_marking.csv', index=False)"
      ]
    },
    {
      "cell_type": "markdown",
      "id": "b2a8c0a0-f160-49f1-9eb8-271340bdbe2f",
      "metadata": {
        "id": "b2a8c0a0-f160-49f1-9eb8-271340bdbe2f"
      },
      "source": [
        "##### Запускаем локально label-studio"
      ]
    },
    {
      "cell_type": "code",
      "execution_count": null,
      "id": "8de78cfd-ce72-4b77-bb3d-d5aed0e3ae91",
      "metadata": {
        "id": "8de78cfd-ce72-4b77-bb3d-d5aed0e3ae91",
        "outputId": "222191a9-2fbb-416e-88f3-487aa6d4d7c8"
      },
      "outputs": [
        {
          "name": "stdout",
          "output_type": "stream",
          "text": [
            "^C\n"
          ]
        }
      ],
      "source": [
        "!label-studio"
      ]
    },
    {
      "cell_type": "markdown",
      "id": "712d3455-19fe-4293-8e3c-3d8fde7c80e1",
      "metadata": {
        "id": "712d3455-19fe-4293-8e3c-3d8fde7c80e1"
      },
      "source": [
        "##### Экспортируем размеченный вручную CSV файл и загружаем его в датафрейм"
      ]
    },
    {
      "cell_type": "code",
      "execution_count": null,
      "id": "cf7aadc6-96aa-414b-a573-21364fb63e88",
      "metadata": {
        "id": "cf7aadc6-96aa-414b-a573-21364fb63e88"
      },
      "outputs": [],
      "source": [
        "df_title_news_1 = pd.read_csv('./csv/project-1-at-2024-04-14-20-19-3822a918.csv', engine='python', on_bad_lines='skip')"
      ]
    },
    {
      "cell_type": "code",
      "execution_count": null,
      "id": "0092004e-4c23-455b-812b-3b619fd811b6",
      "metadata": {
        "id": "0092004e-4c23-455b-812b-3b619fd811b6",
        "outputId": "d0ff60d6-4d88-4d02-c2dc-6990e8598de1"
      },
      "outputs": [
        {
          "data": {
            "text/html": [
              "<div>\n",
              "<style scoped>\n",
              "    .dataframe tbody tr th:only-of-type {\n",
              "        vertical-align: middle;\n",
              "    }\n",
              "\n",
              "    .dataframe tbody tr th {\n",
              "        vertical-align: top;\n",
              "    }\n",
              "\n",
              "    .dataframe thead th {\n",
              "        text-align: right;\n",
              "    }\n",
              "</style>\n",
              "<table border=\"1\" class=\"dataframe\">\n",
              "  <thead>\n",
              "    <tr style=\"text-align: right;\">\n",
              "      <th></th>\n",
              "      <th>annotation_id</th>\n",
              "      <th>annotator</th>\n",
              "      <th>created_at</th>\n",
              "      <th>id</th>\n",
              "      <th>lead_time</th>\n",
              "      <th>sentiment</th>\n",
              "      <th>title</th>\n",
              "      <th>updated_at</th>\n",
              "    </tr>\n",
              "  </thead>\n",
              "  <tbody>\n",
              "    <tr>\n",
              "      <th>0</th>\n",
              "      <td>1</td>\n",
              "      <td>1</td>\n",
              "      <td>2024-04-14T16:08:25.109948Z</td>\n",
              "      <td>1</td>\n",
              "      <td>18.735</td>\n",
              "      <td>positive</td>\n",
              "      <td>Ястржембский называет имя арестованного за взр...</td>\n",
              "      <td>2024-04-14T16:08:33.034497Z</td>\n",
              "    </tr>\n",
              "    <tr>\n",
              "      <th>1</th>\n",
              "      <td>2</td>\n",
              "      <td>1</td>\n",
              "      <td>2024-04-14T16:09:05.374325Z</td>\n",
              "      <td>2</td>\n",
              "      <td>13.131</td>\n",
              "      <td>neutral</td>\n",
              "      <td>Чемпионат Италии: \"Ювентус\" ушел в отрыв</td>\n",
              "      <td>2024-04-14T16:17:06.400265Z</td>\n",
              "    </tr>\n",
              "    <tr>\n",
              "      <th>2</th>\n",
              "      <td>3</td>\n",
              "      <td>1</td>\n",
              "      <td>2024-04-14T16:09:26.498394Z</td>\n",
              "      <td>3</td>\n",
              "      <td>6.770</td>\n",
              "      <td>negative</td>\n",
              "      <td>Из Чернокозово отпущены первые амнистированные...</td>\n",
              "      <td>2024-04-14T16:09:26.498394Z</td>\n",
              "    </tr>\n",
              "    <tr>\n",
              "      <th>3</th>\n",
              "      <td>4</td>\n",
              "      <td>1</td>\n",
              "      <td>2024-04-14T16:09:59.909605Z</td>\n",
              "      <td>4</td>\n",
              "      <td>7.341</td>\n",
              "      <td>neutral</td>\n",
              "      <td>Парламент Украины затребовал у Конгресса США п...</td>\n",
              "      <td>2024-04-14T16:09:59.909605Z</td>\n",
              "    </tr>\n",
              "    <tr>\n",
              "      <th>4</th>\n",
              "      <td>5</td>\n",
              "      <td>1</td>\n",
              "      <td>2024-04-14T16:10:25.863949Z</td>\n",
              "      <td>5</td>\n",
              "      <td>4.486</td>\n",
              "      <td>positive</td>\n",
              "      <td>Пилот Формулы-1 уцелел в авиакатастрофе</td>\n",
              "      <td>2024-04-14T16:10:25.863949Z</td>\n",
              "    </tr>\n",
              "  </tbody>\n",
              "</table>\n",
              "</div>"
            ],
            "text/plain": [
              "   annotation_id  annotator                   created_at  id  lead_time  \\\n",
              "0              1          1  2024-04-14T16:08:25.109948Z   1     18.735   \n",
              "1              2          1  2024-04-14T16:09:05.374325Z   2     13.131   \n",
              "2              3          1  2024-04-14T16:09:26.498394Z   3      6.770   \n",
              "3              4          1  2024-04-14T16:09:59.909605Z   4      7.341   \n",
              "4              5          1  2024-04-14T16:10:25.863949Z   5      4.486   \n",
              "\n",
              "  sentiment                                              title  \\\n",
              "0  positive  Ястржембский называет имя арестованного за взр...   \n",
              "1   neutral           Чемпионат Италии: \"Ювентус\" ушел в отрыв   \n",
              "2  negative  Из Чернокозово отпущены первые амнистированные...   \n",
              "3   neutral  Парламент Украины затребовал у Конгресса США п...   \n",
              "4  positive            Пилот Формулы-1 уцелел в авиакатастрофе   \n",
              "\n",
              "                    updated_at  \n",
              "0  2024-04-14T16:08:33.034497Z  \n",
              "1  2024-04-14T16:17:06.400265Z  \n",
              "2  2024-04-14T16:09:26.498394Z  \n",
              "3  2024-04-14T16:09:59.909605Z  \n",
              "4  2024-04-14T16:10:25.863949Z  "
            ]
          },
          "execution_count": 55,
          "metadata": {},
          "output_type": "execute_result"
        }
      ],
      "source": [
        "df_title_news_1.head()"
      ]
    },
    {
      "cell_type": "code",
      "execution_count": null,
      "id": "34cbf5ba-f29e-459b-adb8-e7c8f8bad5b9",
      "metadata": {
        "id": "34cbf5ba-f29e-459b-adb8-e7c8f8bad5b9"
      },
      "outputs": [],
      "source": [
        "# Оставим только нужные столбцы\n",
        "df_title_news_1 = df_title_news_1[['title', 'sentiment']].rename(columns={'sentiment': 'sentiment_label'})"
      ]
    },
    {
      "cell_type": "code",
      "execution_count": null,
      "id": "c06d879c-31d1-4aaa-9b7d-04f744502d71",
      "metadata": {
        "id": "c06d879c-31d1-4aaa-9b7d-04f744502d71",
        "outputId": "9f265ff1-2a79-41f2-e0a5-8ed725fe91c6"
      },
      "outputs": [
        {
          "data": {
            "text/html": [
              "<div>\n",
              "<style scoped>\n",
              "    .dataframe tbody tr th:only-of-type {\n",
              "        vertical-align: middle;\n",
              "    }\n",
              "\n",
              "    .dataframe tbody tr th {\n",
              "        vertical-align: top;\n",
              "    }\n",
              "\n",
              "    .dataframe thead th {\n",
              "        text-align: right;\n",
              "    }\n",
              "</style>\n",
              "<table border=\"1\" class=\"dataframe\">\n",
              "  <thead>\n",
              "    <tr style=\"text-align: right;\">\n",
              "      <th></th>\n",
              "      <th>title</th>\n",
              "      <th>sentiment_label</th>\n",
              "    </tr>\n",
              "  </thead>\n",
              "  <tbody>\n",
              "    <tr>\n",
              "      <th>0</th>\n",
              "      <td>Ястржембский называет имя арестованного за взр...</td>\n",
              "      <td>positive</td>\n",
              "    </tr>\n",
              "    <tr>\n",
              "      <th>1</th>\n",
              "      <td>Чемпионат Италии: \"Ювентус\" ушел в отрыв</td>\n",
              "      <td>neutral</td>\n",
              "    </tr>\n",
              "    <tr>\n",
              "      <th>2</th>\n",
              "      <td>Из Чернокозово отпущены первые амнистированные...</td>\n",
              "      <td>negative</td>\n",
              "    </tr>\n",
              "    <tr>\n",
              "      <th>3</th>\n",
              "      <td>Парламент Украины затребовал у Конгресса США п...</td>\n",
              "      <td>neutral</td>\n",
              "    </tr>\n",
              "    <tr>\n",
              "      <th>4</th>\n",
              "      <td>Пилот Формулы-1 уцелел в авиакатастрофе</td>\n",
              "      <td>positive</td>\n",
              "    </tr>\n",
              "  </tbody>\n",
              "</table>\n",
              "</div>"
            ],
            "text/plain": [
              "                                               title sentiment_label\n",
              "0  Ястржембский называет имя арестованного за взр...        positive\n",
              "1           Чемпионат Италии: \"Ювентус\" ушел в отрыв         neutral\n",
              "2  Из Чернокозово отпущены первые амнистированные...        negative\n",
              "3  Парламент Украины затребовал у Конгресса США п...         neutral\n",
              "4            Пилот Формулы-1 уцелел в авиакатастрофе        positive"
            ]
          },
          "execution_count": 57,
          "metadata": {},
          "output_type": "execute_result"
        }
      ],
      "source": [
        "df_title_news_1.head()"
      ]
    },
    {
      "cell_type": "markdown",
      "id": "c4db0da4-19b3-4e5c-9ddd-8f6e7ce4e42f",
      "metadata": {
        "id": "c4db0da4-19b3-4e5c-9ddd-8f6e7ce4e42f"
      },
      "source": [
        "## Объединение датафреймов"
      ]
    },
    {
      "cell_type": "code",
      "execution_count": null,
      "id": "731f8698-0957-44e4-beaa-135242de80ab",
      "metadata": {
        "id": "731f8698-0957-44e4-beaa-135242de80ab"
      },
      "outputs": [],
      "source": [
        "# Объеденим три датафрейма\n",
        "df_title_news_concat = pd.concat([\n",
        "    df_title_news_1,\n",
        "    df_title_news_2,\n",
        "], axis=0)\n",
        "# Удалим лишний столбец\n",
        "del df_title_news_concat['sentiment']"
      ]
    },
    {
      "cell_type": "code",
      "execution_count": null,
      "id": "97317487-003f-419e-be55-3ee5ce66d2da",
      "metadata": {
        "id": "97317487-003f-419e-be55-3ee5ce66d2da",
        "outputId": "a15e2566-fed3-4c3a-d2a5-e2afc55a7e7d"
      },
      "outputs": [
        {
          "data": {
            "text/html": [
              "<div>\n",
              "<style scoped>\n",
              "    .dataframe tbody tr th:only-of-type {\n",
              "        vertical-align: middle;\n",
              "    }\n",
              "\n",
              "    .dataframe tbody tr th {\n",
              "        vertical-align: top;\n",
              "    }\n",
              "\n",
              "    .dataframe thead th {\n",
              "        text-align: right;\n",
              "    }\n",
              "</style>\n",
              "<table border=\"1\" class=\"dataframe\">\n",
              "  <thead>\n",
              "    <tr style=\"text-align: right;\">\n",
              "      <th></th>\n",
              "      <th>title</th>\n",
              "      <th>sentiment_label</th>\n",
              "    </tr>\n",
              "  </thead>\n",
              "  <tbody>\n",
              "    <tr>\n",
              "      <th>0</th>\n",
              "      <td>Ястржембский называет имя арестованного за взр...</td>\n",
              "      <td>positive</td>\n",
              "    </tr>\n",
              "    <tr>\n",
              "      <th>1</th>\n",
              "      <td>Чемпионат Италии: \"Ювентус\" ушел в отрыв</td>\n",
              "      <td>neutral</td>\n",
              "    </tr>\n",
              "    <tr>\n",
              "      <th>2</th>\n",
              "      <td>Из Чернокозово отпущены первые амнистированные...</td>\n",
              "      <td>negative</td>\n",
              "    </tr>\n",
              "    <tr>\n",
              "      <th>3</th>\n",
              "      <td>Парламент Украины затребовал у Конгресса США п...</td>\n",
              "      <td>neutral</td>\n",
              "    </tr>\n",
              "    <tr>\n",
              "      <th>4</th>\n",
              "      <td>Пилот Формулы-1 уцелел в авиакатастрофе</td>\n",
              "      <td>positive</td>\n",
              "    </tr>\n",
              "  </tbody>\n",
              "</table>\n",
              "</div>"
            ],
            "text/plain": [
              "                                               title sentiment_label\n",
              "0  Ястржембский называет имя арестованного за взр...        positive\n",
              "1           Чемпионат Италии: \"Ювентус\" ушел в отрыв         neutral\n",
              "2  Из Чернокозово отпущены первые амнистированные...        negative\n",
              "3  Парламент Украины затребовал у Конгресса США п...         neutral\n",
              "4            Пилот Формулы-1 уцелел в авиакатастрофе        positive"
            ]
          },
          "execution_count": 59,
          "metadata": {},
          "output_type": "execute_result"
        }
      ],
      "source": [
        "df_title_news_concat.head()"
      ]
    },
    {
      "cell_type": "code",
      "execution_count": null,
      "id": "17110bdb-81f3-47ff-97d4-75fba9c04a54",
      "metadata": {
        "id": "17110bdb-81f3-47ff-97d4-75fba9c04a54",
        "outputId": "4891c9af-5749-4384-a953-90f49512966f"
      },
      "outputs": [
        {
          "data": {
            "text/plain": [
              "(10000, 2)"
            ]
          },
          "execution_count": 60,
          "metadata": {},
          "output_type": "execute_result"
        }
      ],
      "source": [
        "df_title_news_concat.shape"
      ]
    },
    {
      "cell_type": "code",
      "execution_count": null,
      "id": "67c25d2e-0d7a-4745-80be-8467820e72d0",
      "metadata": {
        "id": "67c25d2e-0d7a-4745-80be-8467820e72d0",
        "outputId": "728df1d3-86b3-4857-b15f-fe33a6fdb5d4"
      },
      "outputs": [
        {
          "data": {
            "text/plain": [
              "<Axes: >"
            ]
          },
          "execution_count": 61,
          "metadata": {},
          "output_type": "execute_result"
        },
        {
          "data": {
            "image/png": "[encoded data removed]",
            "text/plain": [
              "<Figure size 640x480 with 1 Axes>"
            ]
          },
          "metadata": {},
          "output_type": "display_data"
        }
      ],
      "source": [
        "# Выведем график тональности заголовков новостей\n",
        "df_title_news_concat['sentiment_label'].hist()"
      ]
    },
    {
      "cell_type": "code",
      "execution_count": null,
      "id": "e84b4ed9-7207-4cb0-bd20-ed183bd1fe48",
      "metadata": {
        "id": "e84b4ed9-7207-4cb0-bd20-ed183bd1fe48",
        "outputId": "c97e62c9-81e1-4358-9a2a-c80fac1c3944"
      },
      "outputs": [
        {
          "data": {
            "text/html": [
              "<div>\n",
              "<style scoped>\n",
              "    .dataframe tbody tr th:only-of-type {\n",
              "        vertical-align: middle;\n",
              "    }\n",
              "\n",
              "    .dataframe tbody tr th {\n",
              "        vertical-align: top;\n",
              "    }\n",
              "\n",
              "    .dataframe thead tr th {\n",
              "        text-align: left;\n",
              "    }\n",
              "\n",
              "    .dataframe thead tr:last-of-type th {\n",
              "        text-align: right;\n",
              "    }\n",
              "</style>\n",
              "<table border=\"1\" class=\"dataframe\">\n",
              "  <thead>\n",
              "    <tr>\n",
              "      <th></th>\n",
              "      <th>sentiment_label</th>\n",
              "    </tr>\n",
              "    <tr>\n",
              "      <th></th>\n",
              "      <th>count</th>\n",
              "    </tr>\n",
              "    <tr>\n",
              "      <th>sentiment_label</th>\n",
              "      <th></th>\n",
              "    </tr>\n",
              "  </thead>\n",
              "  <tbody>\n",
              "    <tr>\n",
              "      <th>negative</th>\n",
              "      <td>1186</td>\n",
              "    </tr>\n",
              "    <tr>\n",
              "      <th>neutral</th>\n",
              "      <td>7463</td>\n",
              "    </tr>\n",
              "    <tr>\n",
              "      <th>positive</th>\n",
              "      <td>1351</td>\n",
              "    </tr>\n",
              "  </tbody>\n",
              "</table>\n",
              "</div>"
            ],
            "text/plain": [
              "                sentiment_label\n",
              "                          count\n",
              "sentiment_label                \n",
              "negative                   1186\n",
              "neutral                    7463\n",
              "positive                   1351"
            ]
          },
          "execution_count": 62,
          "metadata": {},
          "output_type": "execute_result"
        }
      ],
      "source": [
        "# Статистика тональности заголоаков новостей\n",
        "df_title_news_concat.groupby(['sentiment_label']).agg({'sentiment_label': ['count']})"
      ]
    },
    {
      "cell_type": "markdown",
      "id": "8fc33ebf-0821-409f-a47a-52546928f076",
      "metadata": {
        "id": "8fc33ebf-0821-409f-a47a-52546928f076"
      },
      "source": [
        "## Обучение модели"
      ]
    },
    {
      "cell_type": "code",
      "execution_count": null,
      "id": "67e47435-7936-4067-9f00-6612e1886395",
      "metadata": {
        "id": "67e47435-7936-4067-9f00-6612e1886395"
      },
      "outputs": [],
      "source": [
        "le = LabelEncoder()\n",
        "# Преобразуем в датафрейме буквеное обозначение в цифровое\n",
        "df_title_news_concat['sentiment_label'] = le.fit_transform(df_title_news_concat['sentiment_label'].astype(str))"
      ]
    },
    {
      "cell_type": "code",
      "execution_count": null,
      "id": "da9a770d-da3f-46cd-bcd8-5c2c07a5f3b7",
      "metadata": {
        "id": "da9a770d-da3f-46cd-bcd8-5c2c07a5f3b7",
        "outputId": "1c40ed92-4142-457a-bbd9-7dd8d02122a7"
      },
      "outputs": [
        {
          "data": {
            "text/html": [
              "<div>\n",
              "<style scoped>\n",
              "    .dataframe tbody tr th:only-of-type {\n",
              "        vertical-align: middle;\n",
              "    }\n",
              "\n",
              "    .dataframe tbody tr th {\n",
              "        vertical-align: top;\n",
              "    }\n",
              "\n",
              "    .dataframe thead th {\n",
              "        text-align: right;\n",
              "    }\n",
              "</style>\n",
              "<table border=\"1\" class=\"dataframe\">\n",
              "  <thead>\n",
              "    <tr style=\"text-align: right;\">\n",
              "      <th></th>\n",
              "      <th>title</th>\n",
              "      <th>sentiment_label</th>\n",
              "    </tr>\n",
              "  </thead>\n",
              "  <tbody>\n",
              "    <tr>\n",
              "      <th>0</th>\n",
              "      <td>Ястржембский называет имя арестованного за взр...</td>\n",
              "      <td>2</td>\n",
              "    </tr>\n",
              "    <tr>\n",
              "      <th>1</th>\n",
              "      <td>Чемпионат Италии: \"Ювентус\" ушел в отрыв</td>\n",
              "      <td>1</td>\n",
              "    </tr>\n",
              "    <tr>\n",
              "      <th>2</th>\n",
              "      <td>Из Чернокозово отпущены первые амнистированные...</td>\n",
              "      <td>0</td>\n",
              "    </tr>\n",
              "    <tr>\n",
              "      <th>3</th>\n",
              "      <td>Парламент Украины затребовал у Конгресса США п...</td>\n",
              "      <td>1</td>\n",
              "    </tr>\n",
              "    <tr>\n",
              "      <th>4</th>\n",
              "      <td>Пилот Формулы-1 уцелел в авиакатастрофе</td>\n",
              "      <td>2</td>\n",
              "    </tr>\n",
              "  </tbody>\n",
              "</table>\n",
              "</div>"
            ],
            "text/plain": [
              "                                               title  sentiment_label\n",
              "0  Ястржембский называет имя арестованного за взр...                2\n",
              "1           Чемпионат Италии: \"Ювентус\" ушел в отрыв                1\n",
              "2  Из Чернокозово отпущены первые амнистированные...                0\n",
              "3  Парламент Украины затребовал у Конгресса США п...                1\n",
              "4            Пилот Формулы-1 уцелел в авиакатастрофе                2"
            ]
          },
          "execution_count": 64,
          "metadata": {},
          "output_type": "execute_result"
        }
      ],
      "source": [
        "df_title_news_concat.head()"
      ]
    },
    {
      "cell_type": "code",
      "execution_count": null,
      "id": "216b3378-7617-425b-af09-f18671f821f2",
      "metadata": {
        "id": "216b3378-7617-425b-af09-f18671f821f2"
      },
      "outputs": [],
      "source": [
        "# Перемешивание данных\n",
        "df_title_news_concat = shuffle(df_title_news_concat)"
      ]
    },
    {
      "cell_type": "code",
      "execution_count": null,
      "id": "b24b667a-9f93-448e-8b2b-576212bb975d",
      "metadata": {
        "id": "b24b667a-9f93-448e-8b2b-576212bb975d"
      },
      "outputs": [],
      "source": [
        "# Разделение датасета на размеченную и неразмеченную выборки\n",
        "labeled_title, unlabeled_title = train_test_split(df_title_news_concat, train_size=0.2, random_state=42)"
      ]
    },
    {
      "cell_type": "code",
      "execution_count": null,
      "id": "f6c5f34b-ac4a-44bc-ade6-946e493200dd",
      "metadata": {
        "id": "f6c5f34b-ac4a-44bc-ade6-946e493200dd",
        "outputId": "8edc412b-9ca8-4677-fa57-e15439d98e4a"
      },
      "outputs": [
        {
          "data": {
            "text/html": [
              "<div>\n",
              "<style scoped>\n",
              "    .dataframe tbody tr th:only-of-type {\n",
              "        vertical-align: middle;\n",
              "    }\n",
              "\n",
              "    .dataframe tbody tr th {\n",
              "        vertical-align: top;\n",
              "    }\n",
              "\n",
              "    .dataframe thead th {\n",
              "        text-align: right;\n",
              "    }\n",
              "</style>\n",
              "<table border=\"1\" class=\"dataframe\">\n",
              "  <thead>\n",
              "    <tr style=\"text-align: right;\">\n",
              "      <th></th>\n",
              "      <th>title</th>\n",
              "      <th>sentiment_label</th>\n",
              "    </tr>\n",
              "  </thead>\n",
              "  <tbody>\n",
              "    <tr>\n",
              "      <th>7269</th>\n",
              "      <td>В Чечне погибли три инспектора ГИБДД</td>\n",
              "      <td>1</td>\n",
              "    </tr>\n",
              "    <tr>\n",
              "      <th>5797</th>\n",
              "      <td>Контактная группа по бывшей Югославии вновь за...</td>\n",
              "      <td>1</td>\n",
              "    </tr>\n",
              "    <tr>\n",
              "      <th>208</th>\n",
              "      <td>На выборах губернатора Свердловской области по...</td>\n",
              "      <td>1</td>\n",
              "    </tr>\n",
              "    <tr>\n",
              "      <th>9026</th>\n",
              "      <td>В США сошел с рельсов и загорелся товарный поезд</td>\n",
              "      <td>1</td>\n",
              "    </tr>\n",
              "    <tr>\n",
              "      <th>2881</th>\n",
              "      <td>Боевики сообщили, что сбит российский вертолет</td>\n",
              "      <td>1</td>\n",
              "    </tr>\n",
              "  </tbody>\n",
              "</table>\n",
              "</div>"
            ],
            "text/plain": [
              "                                                  title  sentiment_label\n",
              "7269               В Чечне погибли три инспектора ГИБДД                1\n",
              "5797  Контактная группа по бывшей Югославии вновь за...                1\n",
              "208   На выборах губернатора Свердловской области по...                1\n",
              "9026   В США сошел с рельсов и загорелся товарный поезд                1\n",
              "2881     Боевики сообщили, что сбит российский вертолет                1"
            ]
          },
          "execution_count": 67,
          "metadata": {},
          "output_type": "execute_result"
        }
      ],
      "source": [
        "labeled_title.head()"
      ]
    },
    {
      "cell_type": "code",
      "execution_count": null,
      "id": "81df271a-0e4b-408a-b633-3edee6b4ef6a",
      "metadata": {
        "id": "81df271a-0e4b-408a-b633-3edee6b4ef6a",
        "outputId": "2a03c7ca-5a81-482c-ba0d-bc61ea95625a"
      },
      "outputs": [
        {
          "data": {
            "text/html": [
              "<div>\n",
              "<style scoped>\n",
              "    .dataframe tbody tr th:only-of-type {\n",
              "        vertical-align: middle;\n",
              "    }\n",
              "\n",
              "    .dataframe tbody tr th {\n",
              "        vertical-align: top;\n",
              "    }\n",
              "\n",
              "    .dataframe thead th {\n",
              "        text-align: right;\n",
              "    }\n",
              "</style>\n",
              "<table border=\"1\" class=\"dataframe\">\n",
              "  <thead>\n",
              "    <tr style=\"text-align: right;\">\n",
              "      <th></th>\n",
              "      <th>title</th>\n",
              "      <th>sentiment_label</th>\n",
              "    </tr>\n",
              "  </thead>\n",
              "  <tbody>\n",
              "    <tr>\n",
              "      <th>6312</th>\n",
              "      <td>Немецкие спецслужбы опровергают, что передавал...</td>\n",
              "      <td>1</td>\n",
              "    </tr>\n",
              "    <tr>\n",
              "      <th>6787</th>\n",
              "      <td>Водитель автокрана парализовал движение на Сад...</td>\n",
              "      <td>1</td>\n",
              "    </tr>\n",
              "    <tr>\n",
              "      <th>6305</th>\n",
              "      <td>Детдомовцы хранили гранаты и взрывчатку</td>\n",
              "      <td>1</td>\n",
              "    </tr>\n",
              "    <tr>\n",
              "      <th>9219</th>\n",
              "      <td>ОПЕК увеличивает добычу нефти</td>\n",
              "      <td>1</td>\n",
              "    </tr>\n",
              "    <tr>\n",
              "      <th>4387</th>\n",
              "      <td>Чеченцы пытались отбить своих у милиции</td>\n",
              "      <td>0</td>\n",
              "    </tr>\n",
              "  </tbody>\n",
              "</table>\n",
              "</div>"
            ],
            "text/plain": [
              "                                                  title  sentiment_label\n",
              "6312  Немецкие спецслужбы опровергают, что передавал...                1\n",
              "6787  Водитель автокрана парализовал движение на Сад...                1\n",
              "6305            Детдомовцы хранили гранаты и взрывчатку                1\n",
              "9219                      ОПЕК увеличивает добычу нефти                1\n",
              "4387            Чеченцы пытались отбить своих у милиции                0"
            ]
          },
          "execution_count": 68,
          "metadata": {},
          "output_type": "execute_result"
        }
      ],
      "source": [
        "unlabeled_title.head()"
      ]
    },
    {
      "cell_type": "code",
      "execution_count": null,
      "id": "79866b48-1b25-4fc1-88d4-e1ff98b87fbd",
      "metadata": {
        "id": "79866b48-1b25-4fc1-88d4-e1ff98b87fbd"
      },
      "outputs": [],
      "source": [
        "# Определение функции для обучения модели логистической регрессии на размеченных данных\n",
        "def train_model(labeled_title):\n",
        "    # Векторизация текстовых данных с помощью TF-IDF\n",
        "    vectorizer = TfidfVectorizer()\n",
        "    X = vectorizer.fit_transform(labeled_title['title'])\n",
        "    y = labeled_title['sentiment_label']\n",
        "\n",
        "    # Обучение модели логистической регрессии на размеченных данных\n",
        "    model = LogisticRegression()\n",
        "    model.fit(X, y)\n",
        "\n",
        "    return model, vectorizer"
      ]
    },
    {
      "cell_type": "code",
      "execution_count": null,
      "id": "6bf1d9ff-c43e-4755-a8dd-94cd991237f5",
      "metadata": {
        "id": "6bf1d9ff-c43e-4755-a8dd-94cd991237f5"
      },
      "outputs": [],
      "source": [
        "# Обучение начальной модели на небольшом наборе\n",
        "model, vectorizer = train_model(labeled_title)"
      ]
    },
    {
      "cell_type": "code",
      "execution_count": null,
      "id": "a1828418-5e26-477b-b3c8-c9887db57107",
      "metadata": {
        "id": "a1828418-5e26-477b-b3c8-c9887db57107"
      },
      "outputs": [],
      "source": [
        "# Использование исходной модели для прогнозирования настроения неразмеченных данных\n",
        "X_unlabeled = vectorizer.transform(unlabeled_title['title'])\n",
        "y_unlabeled_predicted = model.predict(X_unlabeled)"
      ]
    },
    {
      "cell_type": "code",
      "execution_count": null,
      "id": "d918abe3-f0b3-4ec1-9139-71102802cb72",
      "metadata": {
        "id": "d918abe3-f0b3-4ec1-9139-71102802cb72"
      },
      "outputs": [],
      "source": [
        "# Вычислить неопределенности или энтропии предсказаний\n",
        "y_unlabeled_proba = model.predict_proba(X_unlabeled)\n",
        "uncertainty = -(y_unlabeled_proba * np.log2(y_unlabeled_proba)).sum(axis=1)"
      ]
    },
    {
      "cell_type": "code",
      "execution_count": null,
      "id": "4fe5c34f-073c-4366-bfd3-ceabbebdc7f7",
      "metadata": {
        "id": "4fe5c34f-073c-4366-bfd3-ceabbebdc7f7"
      },
      "outputs": [],
      "source": [
        "# Выбор 100 наиболее неопределенных точек данных для маркировки человеком\n",
        "labeled_title_new = unlabeled_title.iloc[uncertainty.argsort()[:100]]\n",
        "unlabeled_title_new = unlabeled_title.iloc[uncertainty.argsort()[100:]]"
      ]
    },
    {
      "cell_type": "code",
      "execution_count": null,
      "id": "7bddbfaa-0c35-47e1-a0f0-dfbaa92d54bd",
      "metadata": {
        "id": "7bddbfaa-0c35-47e1-a0f0-dfbaa92d54bd",
        "outputId": "f1948519-ae32-49db-abb0-3d8c381e91ac"
      },
      "outputs": [
        {
          "data": {
            "text/html": [
              "<div>\n",
              "<style scoped>\n",
              "    .dataframe tbody tr th:only-of-type {\n",
              "        vertical-align: middle;\n",
              "    }\n",
              "\n",
              "    .dataframe tbody tr th {\n",
              "        vertical-align: top;\n",
              "    }\n",
              "\n",
              "    .dataframe thead th {\n",
              "        text-align: right;\n",
              "    }\n",
              "</style>\n",
              "<table border=\"1\" class=\"dataframe\">\n",
              "  <thead>\n",
              "    <tr style=\"text-align: right;\">\n",
              "      <th></th>\n",
              "      <th>title</th>\n",
              "      <th>sentiment_label</th>\n",
              "    </tr>\n",
              "  </thead>\n",
              "  <tbody>\n",
              "    <tr>\n",
              "      <th>7169</th>\n",
              "      <td>В Красноярске подростка достали из вентиляцион...</td>\n",
              "      <td>1</td>\n",
              "    </tr>\n",
              "    <tr>\n",
              "      <th>5221</th>\n",
              "      <td>Жилой квартал Тегерана обстреляли из миномета</td>\n",
              "      <td>1</td>\n",
              "    </tr>\n",
              "    <tr>\n",
              "      <th>2078</th>\n",
              "      <td>Власти Сербии не пропускают топливо из EC</td>\n",
              "      <td>1</td>\n",
              "    </tr>\n",
              "    <tr>\n",
              "      <th>8278</th>\n",
              "      <td>Новый бесплатный сыр: онлайновый университет B...</td>\n",
              "      <td>2</td>\n",
              "    </tr>\n",
              "    <tr>\n",
              "      <th>1301</th>\n",
              "      <td>Новый Панамский канал проложат посуху</td>\n",
              "      <td>2</td>\n",
              "    </tr>\n",
              "    <tr>\n",
              "      <th>...</th>\n",
              "      <td>...</td>\n",
              "      <td>...</td>\n",
              "    </tr>\n",
              "    <tr>\n",
              "      <th>8556</th>\n",
              "      <td>В Чечне освобожден предприниматель из Ростова</td>\n",
              "      <td>1</td>\n",
              "    </tr>\n",
              "    <tr>\n",
              "      <th>3449</th>\n",
              "      <td>Один из убийц лидера сербских боевиков находит...</td>\n",
              "      <td>1</td>\n",
              "    </tr>\n",
              "    <tr>\n",
              "      <th>2331</th>\n",
              "      <td>Из питерской Академии художеств украли 16 картин</td>\n",
              "      <td>1</td>\n",
              "    </tr>\n",
              "    <tr>\n",
              "      <th>6980</th>\n",
              "      <td>Беженка из Таджикистана совершила попытку само...</td>\n",
              "      <td>0</td>\n",
              "    </tr>\n",
              "    <tr>\n",
              "      <th>2547</th>\n",
              "      <td>Верховный суд не пустил ЛДПР на выборы</td>\n",
              "      <td>1</td>\n",
              "    </tr>\n",
              "  </tbody>\n",
              "</table>\n",
              "<p>100 rows × 2 columns</p>\n",
              "</div>"
            ],
            "text/plain": [
              "                                                  title  sentiment_label\n",
              "7169  В Красноярске подростка достали из вентиляцион...                1\n",
              "5221      Жилой квартал Тегерана обстреляли из миномета                1\n",
              "2078          Власти Сербии не пропускают топливо из EC                1\n",
              "8278  Новый бесплатный сыр: онлайновый университет B...                2\n",
              "1301              Новый Панамский канал проложат посуху                2\n",
              "...                                                 ...              ...\n",
              "8556      В Чечне освобожден предприниматель из Ростова                1\n",
              "3449  Один из убийц лидера сербских боевиков находит...                1\n",
              "2331   Из питерской Академии художеств украли 16 картин                1\n",
              "6980  Беженка из Таджикистана совершила попытку само...                0\n",
              "2547             Верховный суд не пустил ЛДПР на выборы                1\n",
              "\n",
              "[100 rows x 2 columns]"
            ]
          },
          "execution_count": 74,
          "metadata": {},
          "output_type": "execute_result"
        }
      ],
      "source": [
        "labeled_title_new"
      ]
    },
    {
      "cell_type": "code",
      "execution_count": null,
      "id": "03d49b89-0c34-4340-9257-746a43a3f89c",
      "metadata": {
        "id": "03d49b89-0c34-4340-9257-746a43a3f89c"
      },
      "outputs": [],
      "source": [
        "# Разметка новых точек данных и добавление их к размеченному множеству\n",
        "labeled_title = pd.concat([labeled_title, labeled_title_new])"
      ]
    },
    {
      "cell_type": "code",
      "execution_count": null,
      "id": "3a0f9811-42c3-418d-b42f-f4972c5fbcb9",
      "metadata": {
        "id": "3a0f9811-42c3-418d-b42f-f4972c5fbcb9",
        "outputId": "88190915-9bcb-4103-87d5-6965c04fc6ea"
      },
      "outputs": [
        {
          "data": {
            "text/plain": [
              "(2100, 2)"
            ]
          },
          "execution_count": 76,
          "metadata": {},
          "output_type": "execute_result"
        }
      ],
      "source": [
        "labeled_title.shape"
      ]
    },
    {
      "cell_type": "code",
      "execution_count": null,
      "id": "49324d52-d25a-400b-bf32-9cea47297100",
      "metadata": {
        "id": "49324d52-d25a-400b-bf32-9cea47297100",
        "outputId": "6ef21bdf-877b-4e68-a258-694c60c6e610"
      },
      "outputs": [
        {
          "data": {
            "text/plain": [
              "(7900, 2)"
            ]
          },
          "execution_count": 77,
          "metadata": {},
          "output_type": "execute_result"
        }
      ],
      "source": [
        "unlabeled_title_new.shape"
      ]
    },
    {
      "cell_type": "code",
      "execution_count": null,
      "id": "949cf984-b5c7-4e53-9344-c4531722d95e",
      "metadata": {
        "id": "949cf984-b5c7-4e53-9344-c4531722d95e"
      },
      "outputs": [],
      "source": [
        "# Переобучение модели на расширенном маркированном множестве\n",
        "model, vectorizer = train_model(labeled_title)"
      ]
    },
    {
      "cell_type": "markdown",
      "id": "4d899094-d619-4784-a72b-530e3f087c00",
      "metadata": {
        "id": "4d899094-d619-4784-a72b-530e3f087c00"
      },
      "source": [
        "## Оценка обучения модели"
      ]
    },
    {
      "cell_type": "code",
      "execution_count": null,
      "id": "96a3b4ca-e9b8-4098-8987-6f3aa0239e8b",
      "metadata": {
        "id": "96a3b4ca-e9b8-4098-8987-6f3aa0239e8b"
      },
      "outputs": [],
      "source": [
        "### Загружаем тестовый датасет\n",
        "title_test = pd.read_csv('./csv/test.csv', engine='python', on_bad_lines='skip')"
      ]
    },
    {
      "cell_type": "code",
      "execution_count": null,
      "id": "dd628b0f-bd46-4012-ad2f-6537499b80e5",
      "metadata": {
        "id": "dd628b0f-bd46-4012-ad2f-6537499b80e5"
      },
      "outputs": [],
      "source": [
        "# Преобразуем в датафрейме буквеное обозначение в цифровое\n",
        "title_test['sentiment_label'] = le.fit_transform(title_test['sentiment_label'].astype(str))"
      ]
    },
    {
      "cell_type": "code",
      "execution_count": null,
      "id": "ad23afe1-0b0f-4d0a-95e4-c01faaf3cbb7",
      "metadata": {
        "id": "ad23afe1-0b0f-4d0a-95e4-c01faaf3cbb7",
        "outputId": "1d363015-f898-4152-f4e4-dc5e34d3c9a4"
      },
      "outputs": [
        {
          "data": {
            "text/html": [
              "<div>\n",
              "<style scoped>\n",
              "    .dataframe tbody tr th:only-of-type {\n",
              "        vertical-align: middle;\n",
              "    }\n",
              "\n",
              "    .dataframe tbody tr th {\n",
              "        vertical-align: top;\n",
              "    }\n",
              "\n",
              "    .dataframe thead th {\n",
              "        text-align: right;\n",
              "    }\n",
              "</style>\n",
              "<table border=\"1\" class=\"dataframe\">\n",
              "  <thead>\n",
              "    <tr style=\"text-align: right;\">\n",
              "      <th></th>\n",
              "      <th>title</th>\n",
              "      <th>sentiment_label</th>\n",
              "    </tr>\n",
              "  </thead>\n",
              "  <tbody>\n",
              "    <tr>\n",
              "      <th>0</th>\n",
              "      <td>Вагоны московского метро будут складываться га...</td>\n",
              "      <td>1</td>\n",
              "    </tr>\n",
              "    <tr>\n",
              "      <th>1</th>\n",
              "      <td>В Чечню пытались проникнуть наемники из Пакистана</td>\n",
              "      <td>1</td>\n",
              "    </tr>\n",
              "    <tr>\n",
              "      <th>2</th>\n",
              "      <td>Таллинские заключенные предпочитают голод духоте</td>\n",
              "      <td>0</td>\n",
              "    </tr>\n",
              "    <tr>\n",
              "      <th>3</th>\n",
              "      <td>Адвокатам \"Моста\" не удалось дать отвод следов...</td>\n",
              "      <td>1</td>\n",
              "    </tr>\n",
              "    <tr>\n",
              "      <th>4</th>\n",
              "      <td>В поезде Донецк-Москва нашли взрывчатку</td>\n",
              "      <td>1</td>\n",
              "    </tr>\n",
              "  </tbody>\n",
              "</table>\n",
              "</div>"
            ],
            "text/plain": [
              "                                               title  sentiment_label\n",
              "0  Вагоны московского метро будут складываться га...                1\n",
              "1  В Чечню пытались проникнуть наемники из Пакистана                1\n",
              "2   Таллинские заключенные предпочитают голод духоте                0\n",
              "3  Адвокатам \"Моста\" не удалось дать отвод следов...                1\n",
              "4            В поезде Донецк-Москва нашли взрывчатку                1"
            ]
          },
          "execution_count": 81,
          "metadata": {},
          "output_type": "execute_result"
        }
      ],
      "source": [
        "title_test.head()"
      ]
    },
    {
      "cell_type": "code",
      "execution_count": null,
      "id": "b4924aa7-3fdc-450c-b415-e8bae696278f",
      "metadata": {
        "id": "b4924aa7-3fdc-450c-b415-e8bae696278f",
        "outputId": "50508b00-780f-4120-83db-405fc12ba6f2"
      },
      "outputs": [
        {
          "name": "stdout",
          "output_type": "stream",
          "text": [
            "0.84008\n"
          ]
        }
      ],
      "source": [
        "# Оценка модели на тестовом датасете\n",
        "X_test = vectorizer.transform(title_test['title'])\n",
        "y_test_predicted = model.predict(X_test)\n",
        "f1 = f1_score(title_test['sentiment_label'], y_test_predicted, average='micro')\n",
        "\n",
        "print(f1)"
      ]
    },
    {
      "cell_type": "markdown",
      "id": "e631817d-9398-4138-b706-525b0cdb4f4a",
      "metadata": {
        "id": "e631817d-9398-4138-b706-525b0cdb4f4a"
      },
      "source": [
        "## Вывод:\n",
        "\n",
        "### Выполнил разметку выбранного подмножества на основе правил, произвел разметку вручную другого подмножества. Объединил эти две выборки в один дасет и произвел обучение модели. Эффективность обученной модели составила 84%. Разметка на основе правил существенно экономит трудозатраты."
      ]
    },
    {
      "cell_type": "code",
      "execution_count": null,
      "id": "d9bd4afb-e7be-4cc7-a427-e62fa52d7dcc",
      "metadata": {
        "id": "d9bd4afb-e7be-4cc7-a427-e62fa52d7dcc"
      },
      "outputs": [],
      "source": []
    }
  ],
  "metadata": {
    "kernelspec": {
      "display_name": "Python 3 (ipykernel)",
      "language": "python",
      "name": "python3"
    },
    "language_info": {
      "codemirror_mode": {
        "name": "ipython",
        "version": 3
      },
      "file_extension": ".py",
      "mimetype": "text/x-python",
      "name": "python",
      "nbconvert_exporter": "python",
      "pygments_lexer": "ipython3",
      "version": "3.11.8"
    },
    "colab": {
      "provenance": []
    }
  },
  "nbformat": 4,
  "nbformat_minor": 5
}